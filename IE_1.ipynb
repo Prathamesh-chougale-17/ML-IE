{
  "nbformat": 4,
  "nbformat_minor": 0,
  "metadata": {
    "colab": {
      "provenance": [],
      "include_colab_link": true
    },
    "kernelspec": {
      "name": "python3",
      "display_name": "Python 3"
    },
    "language_info": {
      "name": "python"
    }
  },
  "cells": [
    {
      "cell_type": "markdown",
      "metadata": {
        "id": "view-in-github",
        "colab_type": "text"
      },
      "source": [
        "<a href=\"https://colab.research.google.com/github/Prathamesh-chougale-17/ML-IE/blob/main/IE_1.ipynb\" target=\"_parent\"><img src=\"https://colab.research.google.com/assets/colab-badge.svg\" alt=\"Open In Colab\"/></a>"
      ]
    },
    {
      "cell_type": "markdown",
      "source": [
        "# Importing Important Dataset for Preprocessing"
      ],
      "metadata": {
        "id": "3Ke6mzReQxeY"
      }
    },
    {
      "cell_type": "code",
      "execution_count": 220,
      "metadata": {
        "id": "dixpOq4g-AGq"
      },
      "outputs": [],
      "source": [
        "import numpy as np\n",
        "import matplotlib.pyplot as plt\n",
        "import pandas as pd"
      ]
    },
    {
      "cell_type": "markdown",
      "source": [
        "# Importing the Dataset"
      ],
      "metadata": {
        "id": "yuzw9Q85Q864"
      }
    },
    {
      "cell_type": "code",
      "source": [
        "dataset = pd.read_csv(\"/content/country_inflation_data.csv\")"
      ],
      "metadata": {
        "id": "rPMShvLxOA6j"
      },
      "execution_count": 221,
      "outputs": []
    },
    {
      "cell_type": "code",
      "source": [
        "print(dataset)"
      ],
      "metadata": {
        "colab": {
          "base_uri": "https://localhost:8080/"
        },
        "id": "kremb0niOLnY",
        "outputId": "ed2fa4b5-33a9-4ef9-a322-267ab3a67d96"
      },
      "execution_count": 222,
      "outputs": [
        {
          "output_type": "stream",
          "name": "stdout",
          "text": [
            "      Open  High   Low  Close  Inflation      country ISO3        date\n",
            "0     0.53  0.54  0.53   0.53        NaN  Afghanistan  AFG  2007-01-01\n",
            "1     0.53  0.54  0.53   0.53        NaN  Afghanistan  AFG  2007-02-01\n",
            "2     0.54  0.54  0.53   0.53        NaN  Afghanistan  AFG  2007-03-01\n",
            "3     0.53  0.55  0.53   0.55        NaN  Afghanistan  AFG  2007-04-01\n",
            "4     0.56  0.57  0.56   0.57        NaN  Afghanistan  AFG  2007-05-01\n",
            "...    ...   ...   ...    ...        ...          ...  ...         ...\n",
            "4793  2.74  2.78  2.70   2.75      -0.28  Yemen, Rep.  YEM  2023-06-01\n",
            "4794  2.79  2.83  2.75   2.81      -1.85  Yemen, Rep.  YEM  2023-07-01\n",
            "4795  2.85  2.89  2.81   2.83      -3.17  Yemen, Rep.  YEM  2023-08-01\n",
            "4796  2.86  2.97  2.82   2.97       1.68  Yemen, Rep.  YEM  2023-09-01\n",
            "4797  3.06  3.11  2.98   2.98       3.76  Yemen, Rep.  YEM  2023-10-01\n",
            "\n",
            "[4798 rows x 8 columns]\n"
          ]
        }
      ]
    },
    {
      "cell_type": "code",
      "source": [
        "dataset.shape"
      ],
      "metadata": {
        "colab": {
          "base_uri": "https://localhost:8080/"
        },
        "id": "pwRu0U9COOiW",
        "outputId": "aada43a0-32f3-447c-8a7c-647db7f3c261"
      },
      "execution_count": 223,
      "outputs": [
        {
          "output_type": "execute_result",
          "data": {
            "text/plain": [
              "(4798, 8)"
            ]
          },
          "metadata": {},
          "execution_count": 223
        }
      ]
    },
    {
      "cell_type": "markdown",
      "source": [
        "# Calculating the null Value"
      ],
      "metadata": {
        "id": "7qqOnbp-RAyR"
      }
    },
    {
      "cell_type": "code",
      "source": [
        "dataset.isna().sum()"
      ],
      "metadata": {
        "colab": {
          "base_uri": "https://localhost:8080/"
        },
        "id": "beQGOTt6OeSA",
        "outputId": "d6231f00-e6d7-4c9a-c747-ddc8c4c814da"
      },
      "execution_count": 224,
      "outputs": [
        {
          "output_type": "execute_result",
          "data": {
            "text/plain": [
              "Open          64\n",
              "High          64\n",
              "Low           64\n",
              "Close         64\n",
              "Inflation    364\n",
              "country        0\n",
              "ISO3           0\n",
              "date           0\n",
              "dtype: int64"
            ]
          },
          "metadata": {},
          "execution_count": 224
        }
      ]
    },
    {
      "cell_type": "code",
      "source": [
        "X = dataset.iloc[:,[0,1,2,3,5,6,7]].values"
      ],
      "metadata": {
        "id": "wQt1qRFmQWCA"
      },
      "execution_count": 225,
      "outputs": []
    },
    {
      "cell_type": "code",
      "source": [
        "X"
      ],
      "metadata": {
        "colab": {
          "base_uri": "https://localhost:8080/"
        },
        "id": "T6kvOn1DuycK",
        "outputId": "a5f462c3-7e1f-4ba4-9cb3-35b19ab07dbe"
      },
      "execution_count": 226,
      "outputs": [
        {
          "output_type": "execute_result",
          "data": {
            "text/plain": [
              "array([[0.53, 0.54, 0.53, ..., 'Afghanistan', 'AFG', '2007-01-01'],\n",
              "       [0.53, 0.54, 0.53, ..., 'Afghanistan', 'AFG', '2007-02-01'],\n",
              "       [0.54, 0.54, 0.53, ..., 'Afghanistan', 'AFG', '2007-03-01'],\n",
              "       ...,\n",
              "       [2.85, 2.89, 2.81, ..., 'Yemen, Rep.', 'YEM', '2023-08-01'],\n",
              "       [2.86, 2.97, 2.82, ..., 'Yemen, Rep.', 'YEM', '2023-09-01'],\n",
              "       [3.06, 3.11, 2.98, ..., 'Yemen, Rep.', 'YEM', '2023-10-01']],\n",
              "      dtype=object)"
            ]
          },
          "metadata": {},
          "execution_count": 226
        }
      ]
    },
    {
      "cell_type": "code",
      "source": [
        "y = dataset.iloc[:,4].values"
      ],
      "metadata": {
        "id": "s211OI5uvZoR"
      },
      "execution_count": 227,
      "outputs": []
    },
    {
      "cell_type": "code",
      "source": [
        "y"
      ],
      "metadata": {
        "colab": {
          "base_uri": "https://localhost:8080/"
        },
        "id": "xzJyQwhIvfWu",
        "outputId": "d666e961-56cc-4e22-8d87-9c9f6e891d24"
      },
      "execution_count": 228,
      "outputs": [
        {
          "output_type": "execute_result",
          "data": {
            "text/plain": [
              "array([  nan,   nan,   nan, ..., -3.17,  1.68,  3.76])"
            ]
          },
          "metadata": {},
          "execution_count": 228
        }
      ]
    },
    {
      "cell_type": "markdown",
      "source": [
        "## Removing the Null Values"
      ],
      "metadata": {
        "id": "M0bToq0DRqjF"
      }
    },
    {
      "cell_type": "code",
      "source": [
        "from sklearn.impute import SimpleImputer\n",
        "imputer = SimpleImputer(missing_values = np.nan,strategy='mean')\n",
        "X[:,:4]=imputer.fit_transform(X[:,:4])"
      ],
      "metadata": {
        "id": "Emy8OZOhPEjE"
      },
      "execution_count": 229,
      "outputs": []
    },
    {
      "cell_type": "code",
      "source": [
        "from sklearn.impute import SimpleImputer\n",
        "imputery = SimpleImputer(missing_values = np.nan,strategy='mean')\n",
        "y=imputery.fit_transform(y.reshape(-1, 1))"
      ],
      "metadata": {
        "id": "rnQdghysv22U"
      },
      "execution_count": 230,
      "outputs": []
    },
    {
      "cell_type": "code",
      "source": [
        "print(y)"
      ],
      "metadata": {
        "colab": {
          "base_uri": "https://localhost:8080/"
        },
        "id": "5koe7DcD6o2s",
        "outputId": "730a7e19-f0e4-4bf3-9b19-07235a2cbe1a"
      },
      "execution_count": 231,
      "outputs": [
        {
          "output_type": "stream",
          "name": "stdout",
          "text": [
            "[[14.69234551]\n",
            " [14.69234551]\n",
            " [14.69234551]\n",
            " ...\n",
            " [-3.17      ]\n",
            " [ 1.68      ]\n",
            " [ 3.76      ]]\n"
          ]
        }
      ]
    },
    {
      "cell_type": "code",
      "source": [
        "featurey = pd.DataFrame(y,columns=[\"Inflation\"])"
      ],
      "metadata": {
        "id": "fgyge5KUwFCi"
      },
      "execution_count": 232,
      "outputs": []
    },
    {
      "cell_type": "code",
      "source": [
        "featurey.isna().sum()"
      ],
      "metadata": {
        "colab": {
          "base_uri": "https://localhost:8080/"
        },
        "id": "FnzCyQmUQc0T",
        "outputId": "f82ffcb2-df4c-4762-d74f-79f26011509c"
      },
      "execution_count": 233,
      "outputs": [
        {
          "output_type": "execute_result",
          "data": {
            "text/plain": [
              "Inflation    0\n",
              "dtype: int64"
            ]
          },
          "metadata": {},
          "execution_count": 233
        }
      ]
    },
    {
      "cell_type": "code",
      "source": [
        "featurex = pd.DataFrame(X,columns=[\"Open\" , \"High\" ,  \"Low\",  \"Close\"  , \"country\" ,\"ISO3\",\"date\"])"
      ],
      "metadata": {
        "id": "Iz0CojO3gNqD"
      },
      "execution_count": 234,
      "outputs": []
    },
    {
      "cell_type": "code",
      "source": [
        "featurex.isna().sum()"
      ],
      "metadata": {
        "colab": {
          "base_uri": "https://localhost:8080/"
        },
        "id": "8PYlqMcJgScm",
        "outputId": "1c60a90a-ca1b-4138-9ef3-1059838adaae"
      },
      "execution_count": 235,
      "outputs": [
        {
          "output_type": "execute_result",
          "data": {
            "text/plain": [
              "Open       0\n",
              "High       0\n",
              "Low        0\n",
              "Close      0\n",
              "country    0\n",
              "ISO3       0\n",
              "date       0\n",
              "dtype: int64"
            ]
          },
          "metadata": {},
          "execution_count": 235
        }
      ]
    },
    {
      "cell_type": "markdown",
      "source": [
        "# Normalisation"
      ],
      "metadata": {
        "id": "Z7BRwqjjnH5t"
      }
    },
    {
      "cell_type": "code",
      "source": [
        "from sklearn.preprocessing import MinMaxScaler\n",
        "scaler = MinMaxScaler()\n",
        "X[:,:4] = scaler.fit_transform(X[:,:4])"
      ],
      "metadata": {
        "id": "JqR-UZeOnKzP"
      },
      "execution_count": 236,
      "outputs": []
    },
    {
      "cell_type": "code",
      "source": [
        "feature = pd.DataFrame(X,columns=[\"Open\" , \"High\" ,  \"Low\",  \"Close\"  , \"country\" ,\"ISO3\",\"date\"])"
      ],
      "metadata": {
        "id": "gIdFASAuoWl-"
      },
      "execution_count": 237,
      "outputs": []
    },
    {
      "cell_type": "code",
      "source": [
        "print(feature)"
      ],
      "metadata": {
        "colab": {
          "base_uri": "https://localhost:8080/"
        },
        "id": "sthopHy_obhG",
        "outputId": "42e794fa-0033-4865-a21d-ce1bd83ccc41"
      },
      "execution_count": 238,
      "outputs": [
        {
          "output_type": "stream",
          "name": "stdout",
          "text": [
            "          Open      High       Low     Close      country ISO3        date\n",
            "0     0.005076  0.004978  0.005508  0.005508  Afghanistan  AFG  2007-01-01\n",
            "1     0.005076  0.004978  0.005508  0.005508  Afghanistan  AFG  2007-02-01\n",
            "2     0.005173  0.004978  0.005508  0.005508  Afghanistan  AFG  2007-03-01\n",
            "3     0.005076  0.005072  0.005508   0.00572  Afghanistan  AFG  2007-04-01\n",
            "4     0.005368   0.00526  0.005826  0.005932  Afghanistan  AFG  2007-05-01\n",
            "...        ...       ...       ...       ...          ...  ...         ...\n",
            "4793  0.026647  0.026017  0.028493  0.029022  Yemen, Rep.  YEM  2023-06-01\n",
            "4794  0.027135  0.026486  0.029022  0.029658  Yemen, Rep.  YEM  2023-07-01\n",
            "4795  0.027721   0.02705  0.029658   0.02987  Yemen, Rep.  YEM  2023-08-01\n",
            "4796  0.027818  0.027801  0.029764  0.031353  Yemen, Rep.  YEM  2023-09-01\n",
            "4797  0.029771  0.029116  0.031459  0.031459  Yemen, Rep.  YEM  2023-10-01\n",
            "\n",
            "[4798 rows x 7 columns]\n"
          ]
        }
      ]
    },
    {
      "cell_type": "code",
      "source": [
        "print(X)"
      ],
      "metadata": {
        "colab": {
          "base_uri": "https://localhost:8080/"
        },
        "id": "hq-A4pONps8R",
        "outputId": "28af2fca-22ef-437c-8ae1-a1dd64b78b05"
      },
      "execution_count": 239,
      "outputs": [
        {
          "output_type": "stream",
          "name": "stdout",
          "text": [
            "[[0.005075646656905808 0.004977928054851132 0.005507891113229531 ...\n",
            "  'Afghanistan' 'AFG' '2007-01-01']\n",
            " [0.005075646656905808 0.004977928054851132 0.005507891113229531 ...\n",
            "  'Afghanistan' 'AFG' '2007-02-01']\n",
            " [0.0051732552464616895 0.004977928054851132 0.005507891113229531 ...\n",
            "  'Afghanistan' 'AFG' '2007-03-01']\n",
            " ...\n",
            " [0.02772083943387018 0.02704987320371936 0.02965787522508209 ...\n",
            "  'Yemen, Rep.' 'YEM' '2023-08-01']\n",
            " [0.02781844802342606 0.027801258570489342 0.029763796208028808 ...\n",
            "  'Yemen, Rep.' 'YEM' '2023-09-01']\n",
            " [0.02977061981454368 0.02911618296233681 0.031458531935176365 ...\n",
            "  'Yemen, Rep.' 'YEM' '2023-10-01']]\n"
          ]
        }
      ]
    },
    {
      "cell_type": "code",
      "source": [
        "from sklearn.preprocessing import LabelEncoder\n",
        "le = LabelEncoder()"
      ],
      "metadata": {
        "id": "lpDcMwZUo88O"
      },
      "execution_count": 240,
      "outputs": []
    },
    {
      "cell_type": "code",
      "source": [
        "X[:,4]= le.fit_transform(X[:,4])"
      ],
      "metadata": {
        "id": "eJr7-VTRb49u"
      },
      "execution_count": 241,
      "outputs": []
    },
    {
      "cell_type": "code",
      "source": [
        "X[:,5]= le.fit_transform(X[:,5])"
      ],
      "metadata": {
        "id": "N1gVFPoBm8JB"
      },
      "execution_count": 242,
      "outputs": []
    },
    {
      "cell_type": "code",
      "source": [
        "print(X)"
      ],
      "metadata": {
        "colab": {
          "base_uri": "https://localhost:8080/"
        },
        "id": "TAp2ok_4nDKK",
        "outputId": "87a78a9d-2e30-4524-9b5a-420cfa9f6bad"
      },
      "execution_count": 243,
      "outputs": [
        {
          "output_type": "stream",
          "name": "stdout",
          "text": [
            "[[0.005075646656905808 0.004977928054851132 0.005507891113229531 ... 0 0\n",
            "  '2007-01-01']\n",
            " [0.005075646656905808 0.004977928054851132 0.005507891113229531 ... 0 0\n",
            "  '2007-02-01']\n",
            " [0.0051732552464616895 0.004977928054851132 0.005507891113229531 ... 0 0\n",
            "  '2007-03-01']\n",
            " ...\n",
            " [0.02772083943387018 0.02704987320371936 0.02965787522508209 ... 24 24\n",
            "  '2023-08-01']\n",
            " [0.02781844802342606 0.027801258570489342 0.029763796208028808 ... 24 24\n",
            "  '2023-09-01']\n",
            " [0.02977061981454368 0.02911618296233681 0.031458531935176365 ... 24 24\n",
            "  '2023-10-01']]\n"
          ]
        }
      ]
    },
    {
      "cell_type": "code",
      "source": [
        "X[:,:4]"
      ],
      "metadata": {
        "id": "D0KRLq6V80Wk",
        "colab": {
          "base_uri": "https://localhost:8080/"
        },
        "outputId": "51fc3421-0699-40c8-b9b2-28ddf46225b1"
      },
      "execution_count": 244,
      "outputs": [
        {
          "output_type": "execute_result",
          "data": {
            "text/plain": [
              "array([[0.005075646656905808, 0.004977928054851132, 0.005507891113229531,\n",
              "        0.005507891113229531],\n",
              "       [0.005075646656905808, 0.004977928054851132, 0.005507891113229531,\n",
              "        0.005507891113229531],\n",
              "       [0.0051732552464616895, 0.004977928054851132,\n",
              "        0.005507891113229531, 0.005507891113229531],\n",
              "       ...,\n",
              "       [0.02772083943387018, 0.02704987320371936, 0.02965787522508209,\n",
              "        0.029869717190975534],\n",
              "       [0.02781844802342606, 0.027801258570489342, 0.029763796208028808,\n",
              "        0.031352610952229645],\n",
              "       [0.02977061981454368, 0.02911618296233681, 0.031458531935176365,\n",
              "        0.031458531935176365]], dtype=object)"
            ]
          },
          "metadata": {},
          "execution_count": 244
        }
      ]
    },
    {
      "cell_type": "markdown",
      "source": [
        "# Feature Selection"
      ],
      "metadata": {
        "id": "8nMM4A4VothI"
      }
    },
    {
      "cell_type": "markdown",
      "source": [
        "## SelectKBest"
      ],
      "metadata": {
        "id": "5LqFZZmd_v_T"
      }
    },
    {
      "cell_type": "code",
      "source": [
        "from sklearn.feature_selection import SelectKBest, chi2"
      ],
      "metadata": {
        "id": "EMwUj4nuoxL1"
      },
      "execution_count": 245,
      "outputs": []
    },
    {
      "cell_type": "code",
      "source": [
        "X1 = SelectKBest(chi2, k=3).fit_transform(X[:,:4], y.astype('int'))"
      ],
      "metadata": {
        "id": "x_ua_fwDyy77"
      },
      "execution_count": 246,
      "outputs": []
    },
    {
      "cell_type": "code",
      "source": [
        "X1"
      ],
      "metadata": {
        "colab": {
          "base_uri": "https://localhost:8080/"
        },
        "id": "Kd2K4kHT7noO",
        "outputId": "4ee7a360-af9b-4670-e6fe-32b96d1c841e"
      },
      "execution_count": 247,
      "outputs": [
        {
          "output_type": "execute_result",
          "data": {
            "text/plain": [
              "array([[0.004977928054851132, 0.005507891113229531, 0.005507891113229531],\n",
              "       [0.004977928054851132, 0.005507891113229531, 0.005507891113229531],\n",
              "       [0.004977928054851132, 0.005507891113229531, 0.005507891113229531],\n",
              "       ...,\n",
              "       [0.02704987320371936, 0.02965787522508209, 0.029869717190975534],\n",
              "       [0.027801258570489342, 0.029763796208028808, 0.031352610952229645],\n",
              "       [0.02911618296233681, 0.031458531935176365, 0.031458531935176365]],\n",
              "      dtype=object)"
            ]
          },
          "metadata": {},
          "execution_count": 247
        }
      ]
    },
    {
      "cell_type": "markdown",
      "source": [
        "## PCA"
      ],
      "metadata": {
        "id": "S23FH-aY_z9M"
      }
    },
    {
      "cell_type": "code",
      "source": [
        "from sklearn.decomposition import PCA\n",
        "pca = PCA(n_components=2)\n",
        "pca.fit(X[:,:4])"
      ],
      "metadata": {
        "colab": {
          "base_uri": "https://localhost:8080/",
          "height": 75
        },
        "id": "JA50grCbB23p",
        "outputId": "3579f418-6251-446e-ec4d-db82c12c0085"
      },
      "execution_count": 248,
      "outputs": [
        {
          "output_type": "execute_result",
          "data": {
            "text/plain": [
              "PCA(n_components=2)"
            ],
            "text/html": [
              "<style>#sk-container-id-2 {color: black;background-color: white;}#sk-container-id-2 pre{padding: 0;}#sk-container-id-2 div.sk-toggleable {background-color: white;}#sk-container-id-2 label.sk-toggleable__label {cursor: pointer;display: block;width: 100%;margin-bottom: 0;padding: 0.3em;box-sizing: border-box;text-align: center;}#sk-container-id-2 label.sk-toggleable__label-arrow:before {content: \"▸\";float: left;margin-right: 0.25em;color: #696969;}#sk-container-id-2 label.sk-toggleable__label-arrow:hover:before {color: black;}#sk-container-id-2 div.sk-estimator:hover label.sk-toggleable__label-arrow:before {color: black;}#sk-container-id-2 div.sk-toggleable__content {max-height: 0;max-width: 0;overflow: hidden;text-align: left;background-color: #f0f8ff;}#sk-container-id-2 div.sk-toggleable__content pre {margin: 0.2em;color: black;border-radius: 0.25em;background-color: #f0f8ff;}#sk-container-id-2 input.sk-toggleable__control:checked~div.sk-toggleable__content {max-height: 200px;max-width: 100%;overflow: auto;}#sk-container-id-2 input.sk-toggleable__control:checked~label.sk-toggleable__label-arrow:before {content: \"▾\";}#sk-container-id-2 div.sk-estimator input.sk-toggleable__control:checked~label.sk-toggleable__label {background-color: #d4ebff;}#sk-container-id-2 div.sk-label input.sk-toggleable__control:checked~label.sk-toggleable__label {background-color: #d4ebff;}#sk-container-id-2 input.sk-hidden--visually {border: 0;clip: rect(1px 1px 1px 1px);clip: rect(1px, 1px, 1px, 1px);height: 1px;margin: -1px;overflow: hidden;padding: 0;position: absolute;width: 1px;}#sk-container-id-2 div.sk-estimator {font-family: monospace;background-color: #f0f8ff;border: 1px dotted black;border-radius: 0.25em;box-sizing: border-box;margin-bottom: 0.5em;}#sk-container-id-2 div.sk-estimator:hover {background-color: #d4ebff;}#sk-container-id-2 div.sk-parallel-item::after {content: \"\";width: 100%;border-bottom: 1px solid gray;flex-grow: 1;}#sk-container-id-2 div.sk-label:hover label.sk-toggleable__label {background-color: #d4ebff;}#sk-container-id-2 div.sk-serial::before {content: \"\";position: absolute;border-left: 1px solid gray;box-sizing: border-box;top: 0;bottom: 0;left: 50%;z-index: 0;}#sk-container-id-2 div.sk-serial {display: flex;flex-direction: column;align-items: center;background-color: white;padding-right: 0.2em;padding-left: 0.2em;position: relative;}#sk-container-id-2 div.sk-item {position: relative;z-index: 1;}#sk-container-id-2 div.sk-parallel {display: flex;align-items: stretch;justify-content: center;background-color: white;position: relative;}#sk-container-id-2 div.sk-item::before, #sk-container-id-2 div.sk-parallel-item::before {content: \"\";position: absolute;border-left: 1px solid gray;box-sizing: border-box;top: 0;bottom: 0;left: 50%;z-index: -1;}#sk-container-id-2 div.sk-parallel-item {display: flex;flex-direction: column;z-index: 1;position: relative;background-color: white;}#sk-container-id-2 div.sk-parallel-item:first-child::after {align-self: flex-end;width: 50%;}#sk-container-id-2 div.sk-parallel-item:last-child::after {align-self: flex-start;width: 50%;}#sk-container-id-2 div.sk-parallel-item:only-child::after {width: 0;}#sk-container-id-2 div.sk-dashed-wrapped {border: 1px dashed gray;margin: 0 0.4em 0.5em 0.4em;box-sizing: border-box;padding-bottom: 0.4em;background-color: white;}#sk-container-id-2 div.sk-label label {font-family: monospace;font-weight: bold;display: inline-block;line-height: 1.2em;}#sk-container-id-2 div.sk-label-container {text-align: center;}#sk-container-id-2 div.sk-container {/* jupyter's `normalize.less` sets `[hidden] { display: none; }` but bootstrap.min.css set `[hidden] { display: none !important; }` so we also need the `!important` here to be able to override the default hidden behavior on the sphinx rendered scikit-learn.org. See: https://github.com/scikit-learn/scikit-learn/issues/21755 */display: inline-block !important;position: relative;}#sk-container-id-2 div.sk-text-repr-fallback {display: none;}</style><div id=\"sk-container-id-2\" class=\"sk-top-container\"><div class=\"sk-text-repr-fallback\"><pre>PCA(n_components=2)</pre><b>In a Jupyter environment, please rerun this cell to show the HTML representation or trust the notebook. <br />On GitHub, the HTML representation is unable to render, please try loading this page with nbviewer.org.</b></div><div class=\"sk-container\" hidden><div class=\"sk-item\"><div class=\"sk-estimator sk-toggleable\"><input class=\"sk-toggleable__control sk-hidden--visually\" id=\"sk-estimator-id-2\" type=\"checkbox\" checked><label for=\"sk-estimator-id-2\" class=\"sk-toggleable__label sk-toggleable__label-arrow\">PCA</label><div class=\"sk-toggleable__content\"><pre>PCA(n_components=2)</pre></div></div></div></div></div>"
            ]
          },
          "metadata": {},
          "execution_count": 248
        }
      ]
    },
    {
      "cell_type": "code",
      "source": [
        "print(pca.explained_variance_ratio_)"
      ],
      "metadata": {
        "colab": {
          "base_uri": "https://localhost:8080/"
        },
        "id": "Z5G3SE_kCQn_",
        "outputId": "03ecb2f2-f454-4a34-be5e-e57772ed03b8"
      },
      "execution_count": 249,
      "outputs": [
        {
          "output_type": "stream",
          "name": "stdout",
          "text": [
            "[9.98908723e-01 8.68486371e-04]\n"
          ]
        }
      ]
    },
    {
      "cell_type": "code",
      "source": [
        "print(pca.singular_values_)"
      ],
      "metadata": {
        "colab": {
          "base_uri": "https://localhost:8080/"
        },
        "id": "rJnc_apzCVoI",
        "outputId": "209bcdae-4230-48e3-f63a-746a62fd053b"
      },
      "execution_count": 250,
      "outputs": [
        {
          "output_type": "stream",
          "name": "stdout",
          "text": [
            "[6.44482416 0.19003328]\n"
          ]
        }
      ]
    },
    {
      "cell_type": "markdown",
      "source": [
        "## Select Percentile"
      ],
      "metadata": {
        "id": "Uyd5GF-SAcBh"
      }
    },
    {
      "cell_type": "code",
      "source": [
        "from sklearn.feature_selection import SelectPercentile, chi2\n",
        "X_new = SelectPercentile(chi2, percentile=10).fit_transform(X[:,:4], y.astype('int'))"
      ],
      "metadata": {
        "id": "e7SGv8_cAv7d"
      },
      "execution_count": 251,
      "outputs": []
    },
    {
      "cell_type": "code",
      "source": [
        "X_new"
      ],
      "metadata": {
        "colab": {
          "base_uri": "https://localhost:8080/"
        },
        "id": "X7Sh87lNBYXS",
        "outputId": "cb1b5191-f247-4abb-99a8-887a6a47ca04"
      },
      "execution_count": 252,
      "outputs": [
        {
          "output_type": "execute_result",
          "data": {
            "text/plain": [
              "array([[0.005507891113229531],\n",
              "       [0.005507891113229531],\n",
              "       [0.005507891113229531],\n",
              "       ...,\n",
              "       [0.029869717190975534],\n",
              "       [0.031352610952229645],\n",
              "       [0.031458531935176365]], dtype=object)"
            ]
          },
          "metadata": {},
          "execution_count": 252
        }
      ]
    },
    {
      "cell_type": "markdown",
      "source": [
        "## Variance Threshold"
      ],
      "metadata": {
        "id": "MR_T4GA8Ahsa"
      }
    },
    {
      "cell_type": "code",
      "source": [
        "from sklearn.feature_selection import VarianceThreshold\n",
        "selector = VarianceThreshold()\n",
        "selector.fit_transform(X[:,:4])"
      ],
      "metadata": {
        "colab": {
          "base_uri": "https://localhost:8080/"
        },
        "id": "u307IrfsAqMI",
        "outputId": "e1fe6bee-1797-4013-cefc-acadd9fe8508"
      },
      "execution_count": 253,
      "outputs": [
        {
          "output_type": "execute_result",
          "data": {
            "text/plain": [
              "array([[0.005075646656905808, 0.004977928054851132, 0.005507891113229531,\n",
              "        0.005507891113229531],\n",
              "       [0.005075646656905808, 0.004977928054851132, 0.005507891113229531,\n",
              "        0.005507891113229531],\n",
              "       [0.0051732552464616895, 0.004977928054851132,\n",
              "        0.005507891113229531, 0.005507891113229531],\n",
              "       ...,\n",
              "       [0.02772083943387018, 0.02704987320371936, 0.02965787522508209,\n",
              "        0.029869717190975534],\n",
              "       [0.02781844802342606, 0.027801258570489342, 0.029763796208028808,\n",
              "        0.031352610952229645],\n",
              "       [0.02977061981454368, 0.02911618296233681, 0.031458531935176365,\n",
              "        0.031458531935176365]], dtype=object)"
            ]
          },
          "metadata": {},
          "execution_count": 253
        }
      ]
    }
  ]
}