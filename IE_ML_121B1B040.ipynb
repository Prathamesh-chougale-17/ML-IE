{
  "nbformat": 4,
  "nbformat_minor": 0,
  "metadata": {
    "colab": {
      "provenance": [],
      "include_colab_link": true
    },
    "kernelspec": {
      "name": "python3",
      "display_name": "Python 3"
    },
    "language_info": {
      "name": "python"
    }
  },
  "cells": [
    {
      "cell_type": "markdown",
      "metadata": {
        "id": "view-in-github",
        "colab_type": "text"
      },
      "source": [
        "<a href=\"https://colab.research.google.com/github/Prathamesh-chougale-17/ML-IE/blob/main/IE_ML_121B1B040.ipynb\" target=\"_parent\"><img src=\"https://colab.research.google.com/assets/colab-badge.svg\" alt=\"Open In Colab\"/></a>"
      ]
    },
    {
      "cell_type": "markdown",
      "source": [
        "# Importing Important Dataset for Preprocessing"
      ],
      "metadata": {
        "id": "3Ke6mzReQxeY"
      }
    },
    {
      "cell_type": "code",
      "execution_count": 108,
      "metadata": {
        "id": "dixpOq4g-AGq"
      },
      "outputs": [],
      "source": [
        "import numpy as np\n",
        "import matplotlib.pyplot as plt\n",
        "import pandas as pd"
      ]
    },
    {
      "cell_type": "markdown",
      "source": [
        "# Importing the Dataset"
      ],
      "metadata": {
        "id": "yuzw9Q85Q864"
      }
    },
    {
      "cell_type": "code",
      "source": [
        "dataset = pd.read_csv(\"/content/Global Economy Indicators.csv\")"
      ],
      "metadata": {
        "id": "rPMShvLxOA6j"
      },
      "execution_count": 109,
      "outputs": []
    },
    {
      "cell_type": "code",
      "source": [
        "print(dataset)"
      ],
      "metadata": {
        "colab": {
          "base_uri": "https://localhost:8080/"
        },
        "id": "kremb0niOLnY",
        "outputId": "dc6af1aa-bc2f-4853-c04b-62da1722f6d1"
      },
      "execution_count": 110,
      "outputs": [
        {
          "output_type": "stream",
          "name": "stdout",
          "text": [
            "        CountryID        Country    Year    AMA exchange rate   \\\n",
            "0                4   Afghanistan     1970             0.044998   \n",
            "1                4   Afghanistan     1971             0.044998   \n",
            "2                4   Afghanistan     1972             0.044998   \n",
            "3                4   Afghanistan     1973             0.044998   \n",
            "4                4   Afghanistan     1974             0.044998   \n",
            "...            ...            ...     ...                  ...   \n",
            "10507          894        Zambia     2017             9.519501   \n",
            "10508          894        Zambia     2018            10.458143   \n",
            "10509          894        Zambia     2019            12.889418   \n",
            "10510          894        Zambia     2020            18.344093   \n",
            "10511          894        Zambia     2021            20.018487   \n",
            "\n",
            "        IMF based exchange rate    Population   Currency    Per capita GNI   \\\n",
            "0                       0.044998      10752971   Afghani                164   \n",
            "1                       0.044998      11015857   Afghani                168   \n",
            "2                       0.044998      11286753   Afghani                149   \n",
            "3                       0.044998      11575305   Afghani                150   \n",
            "4                       0.044998      11869879   Afghani                177   \n",
            "...                          ...           ...        ...               ...   \n",
            "10507                   9.519501      17298054    Kwacha               1448   \n",
            "10508                  10.458143      17835893    Kwacha               1451   \n",
            "10509                  12.889418      18380477    Kwacha               1246   \n",
            "10510                  18.344093      18927715    Kwacha                928   \n",
            "10511                  20.018487      19473125    Kwacha               1062   \n",
            "\n",
            "        Agriculture, hunting, forestry, fishing (ISIC A-B)   \\\n",
            "0                                           8.699174e+08      \n",
            "1                                           9.108281e+08      \n",
            "2                                           8.279453e+08      \n",
            "3                                           8.554869e+08      \n",
            "4                                           1.035913e+09      \n",
            "...                                                  ...      \n",
            "10507                                       1.041005e+09      \n",
            "10508                                       8.791160e+08      \n",
            "10509                                       6.668385e+08      \n",
            "10510                                       5.391694e+08      \n",
            "10511                                       6.285287e+08      \n",
            "\n",
            "        Changes in inventories   ...  \\\n",
            "0                           NaN  ...   \n",
            "1                           NaN  ...   \n",
            "2                           NaN  ...   \n",
            "3                           NaN  ...   \n",
            "4                           NaN  ...   \n",
            "...                         ...  ...   \n",
            "10507               567729313.0  ...   \n",
            "10508               929063411.0  ...   \n",
            "10509               817104395.0  ...   \n",
            "10510               439295787.0  ...   \n",
            "10511               293485060.0  ...   \n",
            "\n",
            "        Household consumption expenditure (including Non-profit institutions serving households)   \\\n",
            "0                                           1.551094e+09                                            \n",
            "1                                           1.675426e+09                                            \n",
            "2                                           1.498812e+09                                            \n",
            "3                                           1.508024e+09                                            \n",
            "4                                           1.778819e+09                                            \n",
            "...                                                  ...                                            \n",
            "10507                                       1.215309e+10                                            \n",
            "10508                                       1.183200e+10                                            \n",
            "10509                                       9.848112e+09                                            \n",
            "10510                                       6.969267e+09                                            \n",
            "10511                                       8.423339e+09                                            \n",
            "\n",
            "        Imports of goods and services    Manufacturing (ISIC D)   \\\n",
            "0                         1.952772e+08              3.701468e+08   \n",
            "1                         2.762965e+08              3.875495e+08   \n",
            "2                         2.903704e+08              3.522847e+08   \n",
            "3                         2.629629e+08              3.640103e+08   \n",
            "4                         3.056792e+08              4.407604e+08   \n",
            "...                                ...                       ...   \n",
            "10507                     9.465895e+09              2.102369e+09   \n",
            "10508                     9.717269e+09              1.801783e+09   \n",
            "10509                     7.961415e+09              1.582484e+09   \n",
            "10510                     5.892353e+09              1.397303e+09   \n",
            "10511                     7.735235e+09              1.876458e+09   \n",
            "\n",
            "        Mining, Manufacturing, Utilities (ISIC C-E)   \\\n",
            "0                                       3.766908e+08   \n",
            "1                                       3.944012e+08   \n",
            "2                                       3.585129e+08   \n",
            "3                                       3.704458e+08   \n",
            "4                                       4.485528e+08   \n",
            "...                                              ...   \n",
            "10507                                   7.194153e+09   \n",
            "10508                                   6.556884e+09   \n",
            "10509                                   5.584425e+09   \n",
            "10510                                   4.269405e+09   \n",
            "10511                                   6.639510e+09   \n",
            "\n",
            "        Other Activities (ISIC J-P)    Total Value Added   \\\n",
            "0                       1.277478e+08         1.731454e+09   \n",
            "1                       1.337541e+08         1.812857e+09   \n",
            "2                       1.215827e+08         1.647918e+09   \n",
            "3                       1.256302e+08         1.702735e+09   \n",
            "4                       1.521192e+08         2.061752e+09   \n",
            "...                              ...                  ...   \n",
            "10507                   6.187124e+09         2.416662e+10   \n",
            "10508                   5.791375e+09         2.422570e+10   \n",
            "10509                   5.231062e+09         2.153971e+10   \n",
            "10510                   4.217431e+09         1.718020e+10   \n",
            "10511                   4.250492e+09         2.071254e+10   \n",
            "\n",
            "        Transport, storage and communication (ISIC I)   \\\n",
            "0                                         8.391720e+07   \n",
            "1                                         8.786038e+07   \n",
            "2                                         7.986452e+07   \n",
            "3                                         8.252888e+07   \n",
            "4                                         9.991860e+07   \n",
            "...                                                ...   \n",
            "10507                                     1.965026e+09   \n",
            "10508                                     2.490720e+09   \n",
            "10509                                     2.537646e+09   \n",
            "10510                                     2.258715e+09   \n",
            "10511                                     2.060541e+09   \n",
            "\n",
            "        Wholesale, retail trade, restaurants and hotels (ISIC G-H)   \\\n",
            "0                                           2.263871e+08              \n",
            "1                                           2.370192e+08              \n",
            "2                                           2.154773e+08              \n",
            "3                                           2.226243e+08              \n",
            "4                                           2.695259e+08              \n",
            "...                                                  ...              \n",
            "10507                                       5.323590e+09              \n",
            "10508                                       5.990720e+09              \n",
            "10509                                       4.959277e+09              \n",
            "10510                                       3.234123e+09              \n",
            "10511                                       3.881353e+09              \n",
            "\n",
            "        Gross National Income(GNI) in USD    Gross Domestic Product (GDP)   \n",
            "0                             1.766528e+09                    1.731436e+09  \n",
            "1                             1.850122e+09                    1.812838e+09  \n",
            "2                             1.683948e+09                    1.647900e+09  \n",
            "3                             1.739998e+09                    1.702716e+09  \n",
            "4                             2.106420e+09                    2.061729e+09  \n",
            "...                                    ...                             ...  \n",
            "10507                         2.505604e+10                    2.586816e+10  \n",
            "10508                         2.588455e+10                    2.631198e+10  \n",
            "10509                         2.291011e+10                    2.331036e+10  \n",
            "10510                         1.756233e+10                    1.811064e+10  \n",
            "10511                         2.067962e+10                    2.131337e+10  \n",
            "\n",
            "[10512 rows x 26 columns]\n"
          ]
        }
      ]
    },
    {
      "cell_type": "code",
      "source": [
        "dataset.dtypes"
      ],
      "metadata": {
        "colab": {
          "base_uri": "https://localhost:8080/"
        },
        "id": "PZtyjvAhm4j7",
        "outputId": "22eef246-66a2-4c0a-c393-abcb65e30648"
      },
      "execution_count": 111,
      "outputs": [
        {
          "output_type": "execute_result",
          "data": {
            "text/plain": [
              " CountryID                                                                                      int64\n",
              " Country                                                                                       object\n",
              " Year                                                                                           int64\n",
              " AMA exchange rate                                                                            float64\n",
              " IMF based exchange rate                                                                      float64\n",
              " Population                                                                                     int64\n",
              " Currency                                                                                      object\n",
              " Per capita GNI                                                                                 int64\n",
              " Agriculture, hunting, forestry, fishing (ISIC A-B)                                           float64\n",
              " Changes in inventories                                                                       float64\n",
              " Construction (ISIC F)                                                                        float64\n",
              " Exports of goods and services                                                                float64\n",
              " Final consumption expenditure                                                                float64\n",
              " General government final consumption expenditure                                             float64\n",
              " Gross capital formation                                                                      float64\n",
              " Gross fixed capital formation (including Acquisitions less disposals of valuables)           float64\n",
              " Household consumption expenditure (including Non-profit institutions serving households)     float64\n",
              " Imports of goods and services                                                                float64\n",
              " Manufacturing (ISIC D)                                                                       float64\n",
              " Mining, Manufacturing, Utilities (ISIC C-E)                                                  float64\n",
              " Other Activities (ISIC J-P)                                                                  float64\n",
              " Total Value Added                                                                            float64\n",
              " Transport, storage and communication (ISIC I)                                                float64\n",
              " Wholesale, retail trade, restaurants and hotels (ISIC G-H)                                   float64\n",
              " Gross National Income(GNI) in USD                                                            float64\n",
              " Gross Domestic Product (GDP)                                                                 float64\n",
              "dtype: object"
            ]
          },
          "metadata": {},
          "execution_count": 111
        }
      ]
    },
    {
      "cell_type": "code",
      "source": [
        "dataset.shape"
      ],
      "metadata": {
        "colab": {
          "base_uri": "https://localhost:8080/"
        },
        "id": "pwRu0U9COOiW",
        "outputId": "acd6e5c2-a32f-4c81-87ee-05bf31707321"
      },
      "execution_count": 112,
      "outputs": [
        {
          "output_type": "execute_result",
          "data": {
            "text/plain": [
              "(10512, 26)"
            ]
          },
          "metadata": {},
          "execution_count": 112
        }
      ]
    },
    {
      "cell_type": "markdown",
      "source": [
        "# Calculating the null Value"
      ],
      "metadata": {
        "id": "7qqOnbp-RAyR"
      }
    },
    {
      "cell_type": "code",
      "source": [
        "dataset.isna().sum()"
      ],
      "metadata": {
        "colab": {
          "base_uri": "https://localhost:8080/"
        },
        "id": "beQGOTt6OeSA",
        "outputId": "91bdb749-8859-4183-a574-1480a39f0908"
      },
      "execution_count": 113,
      "outputs": [
        {
          "output_type": "execute_result",
          "data": {
            "text/plain": [
              " CountryID                                                                                       0\n",
              " Country                                                                                         0\n",
              " Year                                                                                            0\n",
              " AMA exchange rate                                                                               0\n",
              " IMF based exchange rate                                                                         0\n",
              " Population                                                                                      0\n",
              " Currency                                                                                        0\n",
              " Per capita GNI                                                                                  0\n",
              " Agriculture, hunting, forestry, fishing (ISIC A-B)                                            121\n",
              " Changes in inventories                                                                       1841\n",
              " Construction (ISIC F)                                                                           0\n",
              " Exports of goods and services                                                                  21\n",
              " Final consumption expenditure                                                                   0\n",
              " General government final consumption expenditure                                               52\n",
              " Gross capital formation                                                                        52\n",
              " Gross fixed capital formation (including Acquisitions less disposals of valuables)             52\n",
              " Household consumption expenditure (including Non-profit institutions serving households)       52\n",
              " Imports of goods and services                                                                  42\n",
              " Manufacturing (ISIC D)                                                                         43\n",
              " Mining, Manufacturing, Utilities (ISIC C-E)                                                     0\n",
              " Other Activities (ISIC J-P)                                                                     0\n",
              " Total Value Added                                                                               0\n",
              " Transport, storage and communication (ISIC I)                                                  49\n",
              " Wholesale, retail trade, restaurants and hotels (ISIC G-H)                                     49\n",
              " Gross National Income(GNI) in USD                                                               0\n",
              " Gross Domestic Product (GDP)                                                                    0\n",
              "dtype: int64"
            ]
          },
          "metadata": {},
          "execution_count": 113
        }
      ]
    },
    {
      "cell_type": "code",
      "source": [
        "X = dataset.iloc[:,:-1]"
      ],
      "metadata": {
        "id": "wQt1qRFmQWCA"
      },
      "execution_count": 114,
      "outputs": []
    },
    {
      "cell_type": "code",
      "source": [
        "X"
      ],
      "metadata": {
        "colab": {
          "base_uri": "https://localhost:8080/",
          "height": 565
        },
        "id": "T6kvOn1DuycK",
        "outputId": "a537d9db-d9a8-4c23-842a-f2af0b0c6c4f"
      },
      "execution_count": 115,
      "outputs": [
        {
          "output_type": "execute_result",
          "data": {
            "text/plain": [
              "        CountryID        Country    Year    AMA exchange rate   \\\n",
              "0                4   Afghanistan     1970             0.044998   \n",
              "1                4   Afghanistan     1971             0.044998   \n",
              "2                4   Afghanistan     1972             0.044998   \n",
              "3                4   Afghanistan     1973             0.044998   \n",
              "4                4   Afghanistan     1974             0.044998   \n",
              "...            ...            ...     ...                  ...   \n",
              "10507          894        Zambia     2017             9.519501   \n",
              "10508          894        Zambia     2018            10.458143   \n",
              "10509          894        Zambia     2019            12.889418   \n",
              "10510          894        Zambia     2020            18.344093   \n",
              "10511          894        Zambia     2021            20.018487   \n",
              "\n",
              "        IMF based exchange rate    Population   Currency    Per capita GNI   \\\n",
              "0                       0.044998      10752971   Afghani                164   \n",
              "1                       0.044998      11015857   Afghani                168   \n",
              "2                       0.044998      11286753   Afghani                149   \n",
              "3                       0.044998      11575305   Afghani                150   \n",
              "4                       0.044998      11869879   Afghani                177   \n",
              "...                          ...           ...        ...               ...   \n",
              "10507                   9.519501      17298054    Kwacha               1448   \n",
              "10508                  10.458143      17835893    Kwacha               1451   \n",
              "10509                  12.889418      18380477    Kwacha               1246   \n",
              "10510                  18.344093      18927715    Kwacha                928   \n",
              "10511                  20.018487      19473125    Kwacha               1062   \n",
              "\n",
              "        Agriculture, hunting, forestry, fishing (ISIC A-B)   \\\n",
              "0                                           8.699174e+08      \n",
              "1                                           9.108281e+08      \n",
              "2                                           8.279453e+08      \n",
              "3                                           8.554869e+08      \n",
              "4                                           1.035913e+09      \n",
              "...                                                  ...      \n",
              "10507                                       1.041005e+09      \n",
              "10508                                       8.791160e+08      \n",
              "10509                                       6.668385e+08      \n",
              "10510                                       5.391694e+08      \n",
              "10511                                       6.285287e+08      \n",
              "\n",
              "        Changes in inventories   ...  \\\n",
              "0                           NaN  ...   \n",
              "1                           NaN  ...   \n",
              "2                           NaN  ...   \n",
              "3                           NaN  ...   \n",
              "4                           NaN  ...   \n",
              "...                         ...  ...   \n",
              "10507               567729313.0  ...   \n",
              "10508               929063411.0  ...   \n",
              "10509               817104395.0  ...   \n",
              "10510               439295787.0  ...   \n",
              "10511               293485060.0  ...   \n",
              "\n",
              "        Gross fixed capital formation (including Acquisitions less disposals of valuables)   \\\n",
              "0                                           9.461182e+07                                      \n",
              "1                                           9.901235e+07                                      \n",
              "2                                           1.034568e+08                                      \n",
              "3                                           1.217284e+08                                      \n",
              "4                                           1.750619e+08                                      \n",
              "...                                                  ...                                      \n",
              "10507                                       1.003902e+10                                      \n",
              "10508                                       9.238172e+09                                      \n",
              "10509                                       8.334744e+09                                      \n",
              "10510                                       5.409199e+09                                      \n",
              "10511                                       5.809129e+09                                      \n",
              "\n",
              "        Household consumption expenditure (including Non-profit institutions serving households)   \\\n",
              "0                                           1.551094e+09                                            \n",
              "1                                           1.675426e+09                                            \n",
              "2                                           1.498812e+09                                            \n",
              "3                                           1.508024e+09                                            \n",
              "4                                           1.778819e+09                                            \n",
              "...                                                  ...                                            \n",
              "10507                                       1.215309e+10                                            \n",
              "10508                                       1.183200e+10                                            \n",
              "10509                                       9.848112e+09                                            \n",
              "10510                                       6.969267e+09                                            \n",
              "10511                                       8.423339e+09                                            \n",
              "\n",
              "        Imports of goods and services    Manufacturing (ISIC D)   \\\n",
              "0                         1.952772e+08              3.701468e+08   \n",
              "1                         2.762965e+08              3.875495e+08   \n",
              "2                         2.903704e+08              3.522847e+08   \n",
              "3                         2.629629e+08              3.640103e+08   \n",
              "4                         3.056792e+08              4.407604e+08   \n",
              "...                                ...                       ...   \n",
              "10507                     9.465895e+09              2.102369e+09   \n",
              "10508                     9.717269e+09              1.801783e+09   \n",
              "10509                     7.961415e+09              1.582484e+09   \n",
              "10510                     5.892353e+09              1.397303e+09   \n",
              "10511                     7.735235e+09              1.876458e+09   \n",
              "\n",
              "        Mining, Manufacturing, Utilities (ISIC C-E)   \\\n",
              "0                                       3.766908e+08   \n",
              "1                                       3.944012e+08   \n",
              "2                                       3.585129e+08   \n",
              "3                                       3.704458e+08   \n",
              "4                                       4.485528e+08   \n",
              "...                                              ...   \n",
              "10507                                   7.194153e+09   \n",
              "10508                                   6.556884e+09   \n",
              "10509                                   5.584425e+09   \n",
              "10510                                   4.269405e+09   \n",
              "10511                                   6.639510e+09   \n",
              "\n",
              "        Other Activities (ISIC J-P)    Total Value Added   \\\n",
              "0                       1.277478e+08         1.731454e+09   \n",
              "1                       1.337541e+08         1.812857e+09   \n",
              "2                       1.215827e+08         1.647918e+09   \n",
              "3                       1.256302e+08         1.702735e+09   \n",
              "4                       1.521192e+08         2.061752e+09   \n",
              "...                              ...                  ...   \n",
              "10507                   6.187124e+09         2.416662e+10   \n",
              "10508                   5.791375e+09         2.422570e+10   \n",
              "10509                   5.231062e+09         2.153971e+10   \n",
              "10510                   4.217431e+09         1.718020e+10   \n",
              "10511                   4.250492e+09         2.071254e+10   \n",
              "\n",
              "        Transport, storage and communication (ISIC I)   \\\n",
              "0                                         8.391720e+07   \n",
              "1                                         8.786038e+07   \n",
              "2                                         7.986452e+07   \n",
              "3                                         8.252888e+07   \n",
              "4                                         9.991860e+07   \n",
              "...                                                ...   \n",
              "10507                                     1.965026e+09   \n",
              "10508                                     2.490720e+09   \n",
              "10509                                     2.537646e+09   \n",
              "10510                                     2.258715e+09   \n",
              "10511                                     2.060541e+09   \n",
              "\n",
              "        Wholesale, retail trade, restaurants and hotels (ISIC G-H)   \\\n",
              "0                                           2.263871e+08              \n",
              "1                                           2.370192e+08              \n",
              "2                                           2.154773e+08              \n",
              "3                                           2.226243e+08              \n",
              "4                                           2.695259e+08              \n",
              "...                                                  ...              \n",
              "10507                                       5.323590e+09              \n",
              "10508                                       5.990720e+09              \n",
              "10509                                       4.959277e+09              \n",
              "10510                                       3.234123e+09              \n",
              "10511                                       3.881353e+09              \n",
              "\n",
              "        Gross National Income(GNI) in USD   \n",
              "0                             1.766528e+09  \n",
              "1                             1.850122e+09  \n",
              "2                             1.683948e+09  \n",
              "3                             1.739998e+09  \n",
              "4                             2.106420e+09  \n",
              "...                                    ...  \n",
              "10507                         2.505604e+10  \n",
              "10508                         2.588455e+10  \n",
              "10509                         2.291011e+10  \n",
              "10510                         1.756233e+10  \n",
              "10511                         2.067962e+10  \n",
              "\n",
              "[10512 rows x 25 columns]"
            ],
            "text/html": [
              "\n",
              "  <div id=\"df-f153a0c6-6da7-4a10-ae5c-9dbe785f34a5\" class=\"colab-df-container\">\n",
              "    <div>\n",
              "<style scoped>\n",
              "    .dataframe tbody tr th:only-of-type {\n",
              "        vertical-align: middle;\n",
              "    }\n",
              "\n",
              "    .dataframe tbody tr th {\n",
              "        vertical-align: top;\n",
              "    }\n",
              "\n",
              "    .dataframe thead th {\n",
              "        text-align: right;\n",
              "    }\n",
              "</style>\n",
              "<table border=\"1\" class=\"dataframe\">\n",
              "  <thead>\n",
              "    <tr style=\"text-align: right;\">\n",
              "      <th></th>\n",
              "      <th>CountryID</th>\n",
              "      <th>Country</th>\n",
              "      <th>Year</th>\n",
              "      <th>AMA exchange rate</th>\n",
              "      <th>IMF based exchange rate</th>\n",
              "      <th>Population</th>\n",
              "      <th>Currency</th>\n",
              "      <th>Per capita GNI</th>\n",
              "      <th>Agriculture, hunting, forestry, fishing (ISIC A-B)</th>\n",
              "      <th>Changes in inventories</th>\n",
              "      <th>...</th>\n",
              "      <th>Gross fixed capital formation (including Acquisitions less disposals of valuables)</th>\n",
              "      <th>Household consumption expenditure (including Non-profit institutions serving households)</th>\n",
              "      <th>Imports of goods and services</th>\n",
              "      <th>Manufacturing (ISIC D)</th>\n",
              "      <th>Mining, Manufacturing, Utilities (ISIC C-E)</th>\n",
              "      <th>Other Activities (ISIC J-P)</th>\n",
              "      <th>Total Value Added</th>\n",
              "      <th>Transport, storage and communication (ISIC I)</th>\n",
              "      <th>Wholesale, retail trade, restaurants and hotels (ISIC G-H)</th>\n",
              "      <th>Gross National Income(GNI) in USD</th>\n",
              "    </tr>\n",
              "  </thead>\n",
              "  <tbody>\n",
              "    <tr>\n",
              "      <th>0</th>\n",
              "      <td>4</td>\n",
              "      <td>Afghanistan</td>\n",
              "      <td>1970</td>\n",
              "      <td>0.044998</td>\n",
              "      <td>0.044998</td>\n",
              "      <td>10752971</td>\n",
              "      <td>Afghani</td>\n",
              "      <td>164</td>\n",
              "      <td>8.699174e+08</td>\n",
              "      <td>NaN</td>\n",
              "      <td>...</td>\n",
              "      <td>9.461182e+07</td>\n",
              "      <td>1.551094e+09</td>\n",
              "      <td>1.952772e+08</td>\n",
              "      <td>3.701468e+08</td>\n",
              "      <td>3.766908e+08</td>\n",
              "      <td>1.277478e+08</td>\n",
              "      <td>1.731454e+09</td>\n",
              "      <td>8.391720e+07</td>\n",
              "      <td>2.263871e+08</td>\n",
              "      <td>1.766528e+09</td>\n",
              "    </tr>\n",
              "    <tr>\n",
              "      <th>1</th>\n",
              "      <td>4</td>\n",
              "      <td>Afghanistan</td>\n",
              "      <td>1971</td>\n",
              "      <td>0.044998</td>\n",
              "      <td>0.044998</td>\n",
              "      <td>11015857</td>\n",
              "      <td>Afghani</td>\n",
              "      <td>168</td>\n",
              "      <td>9.108281e+08</td>\n",
              "      <td>NaN</td>\n",
              "      <td>...</td>\n",
              "      <td>9.901235e+07</td>\n",
              "      <td>1.675426e+09</td>\n",
              "      <td>2.762965e+08</td>\n",
              "      <td>3.875495e+08</td>\n",
              "      <td>3.944012e+08</td>\n",
              "      <td>1.337541e+08</td>\n",
              "      <td>1.812857e+09</td>\n",
              "      <td>8.786038e+07</td>\n",
              "      <td>2.370192e+08</td>\n",
              "      <td>1.850122e+09</td>\n",
              "    </tr>\n",
              "    <tr>\n",
              "      <th>2</th>\n",
              "      <td>4</td>\n",
              "      <td>Afghanistan</td>\n",
              "      <td>1972</td>\n",
              "      <td>0.044998</td>\n",
              "      <td>0.044998</td>\n",
              "      <td>11286753</td>\n",
              "      <td>Afghani</td>\n",
              "      <td>149</td>\n",
              "      <td>8.279453e+08</td>\n",
              "      <td>NaN</td>\n",
              "      <td>...</td>\n",
              "      <td>1.034568e+08</td>\n",
              "      <td>1.498812e+09</td>\n",
              "      <td>2.903704e+08</td>\n",
              "      <td>3.522847e+08</td>\n",
              "      <td>3.585129e+08</td>\n",
              "      <td>1.215827e+08</td>\n",
              "      <td>1.647918e+09</td>\n",
              "      <td>7.986452e+07</td>\n",
              "      <td>2.154773e+08</td>\n",
              "      <td>1.683948e+09</td>\n",
              "    </tr>\n",
              "    <tr>\n",
              "      <th>3</th>\n",
              "      <td>4</td>\n",
              "      <td>Afghanistan</td>\n",
              "      <td>1973</td>\n",
              "      <td>0.044998</td>\n",
              "      <td>0.044998</td>\n",
              "      <td>11575305</td>\n",
              "      <td>Afghani</td>\n",
              "      <td>150</td>\n",
              "      <td>8.554869e+08</td>\n",
              "      <td>NaN</td>\n",
              "      <td>...</td>\n",
              "      <td>1.217284e+08</td>\n",
              "      <td>1.508024e+09</td>\n",
              "      <td>2.629629e+08</td>\n",
              "      <td>3.640103e+08</td>\n",
              "      <td>3.704458e+08</td>\n",
              "      <td>1.256302e+08</td>\n",
              "      <td>1.702735e+09</td>\n",
              "      <td>8.252888e+07</td>\n",
              "      <td>2.226243e+08</td>\n",
              "      <td>1.739998e+09</td>\n",
              "    </tr>\n",
              "    <tr>\n",
              "      <th>4</th>\n",
              "      <td>4</td>\n",
              "      <td>Afghanistan</td>\n",
              "      <td>1974</td>\n",
              "      <td>0.044998</td>\n",
              "      <td>0.044998</td>\n",
              "      <td>11869879</td>\n",
              "      <td>Afghani</td>\n",
              "      <td>177</td>\n",
              "      <td>1.035913e+09</td>\n",
              "      <td>NaN</td>\n",
              "      <td>...</td>\n",
              "      <td>1.750619e+08</td>\n",
              "      <td>1.778819e+09</td>\n",
              "      <td>3.056792e+08</td>\n",
              "      <td>4.407604e+08</td>\n",
              "      <td>4.485528e+08</td>\n",
              "      <td>1.521192e+08</td>\n",
              "      <td>2.061752e+09</td>\n",
              "      <td>9.991860e+07</td>\n",
              "      <td>2.695259e+08</td>\n",
              "      <td>2.106420e+09</td>\n",
              "    </tr>\n",
              "    <tr>\n",
              "      <th>...</th>\n",
              "      <td>...</td>\n",
              "      <td>...</td>\n",
              "      <td>...</td>\n",
              "      <td>...</td>\n",
              "      <td>...</td>\n",
              "      <td>...</td>\n",
              "      <td>...</td>\n",
              "      <td>...</td>\n",
              "      <td>...</td>\n",
              "      <td>...</td>\n",
              "      <td>...</td>\n",
              "      <td>...</td>\n",
              "      <td>...</td>\n",
              "      <td>...</td>\n",
              "      <td>...</td>\n",
              "      <td>...</td>\n",
              "      <td>...</td>\n",
              "      <td>...</td>\n",
              "      <td>...</td>\n",
              "      <td>...</td>\n",
              "      <td>...</td>\n",
              "    </tr>\n",
              "    <tr>\n",
              "      <th>10507</th>\n",
              "      <td>894</td>\n",
              "      <td>Zambia</td>\n",
              "      <td>2017</td>\n",
              "      <td>9.519501</td>\n",
              "      <td>9.519501</td>\n",
              "      <td>17298054</td>\n",
              "      <td>Kwacha</td>\n",
              "      <td>1448</td>\n",
              "      <td>1.041005e+09</td>\n",
              "      <td>567729313.0</td>\n",
              "      <td>...</td>\n",
              "      <td>1.003902e+10</td>\n",
              "      <td>1.215309e+10</td>\n",
              "      <td>9.465895e+09</td>\n",
              "      <td>2.102369e+09</td>\n",
              "      <td>7.194153e+09</td>\n",
              "      <td>6.187124e+09</td>\n",
              "      <td>2.416662e+10</td>\n",
              "      <td>1.965026e+09</td>\n",
              "      <td>5.323590e+09</td>\n",
              "      <td>2.505604e+10</td>\n",
              "    </tr>\n",
              "    <tr>\n",
              "      <th>10508</th>\n",
              "      <td>894</td>\n",
              "      <td>Zambia</td>\n",
              "      <td>2018</td>\n",
              "      <td>10.458143</td>\n",
              "      <td>10.458143</td>\n",
              "      <td>17835893</td>\n",
              "      <td>Kwacha</td>\n",
              "      <td>1451</td>\n",
              "      <td>8.791160e+08</td>\n",
              "      <td>929063411.0</td>\n",
              "      <td>...</td>\n",
              "      <td>9.238172e+09</td>\n",
              "      <td>1.183200e+10</td>\n",
              "      <td>9.717269e+09</td>\n",
              "      <td>1.801783e+09</td>\n",
              "      <td>6.556884e+09</td>\n",
              "      <td>5.791375e+09</td>\n",
              "      <td>2.422570e+10</td>\n",
              "      <td>2.490720e+09</td>\n",
              "      <td>5.990720e+09</td>\n",
              "      <td>2.588455e+10</td>\n",
              "    </tr>\n",
              "    <tr>\n",
              "      <th>10509</th>\n",
              "      <td>894</td>\n",
              "      <td>Zambia</td>\n",
              "      <td>2019</td>\n",
              "      <td>12.889418</td>\n",
              "      <td>12.889418</td>\n",
              "      <td>18380477</td>\n",
              "      <td>Kwacha</td>\n",
              "      <td>1246</td>\n",
              "      <td>6.668385e+08</td>\n",
              "      <td>817104395.0</td>\n",
              "      <td>...</td>\n",
              "      <td>8.334744e+09</td>\n",
              "      <td>9.848112e+09</td>\n",
              "      <td>7.961415e+09</td>\n",
              "      <td>1.582484e+09</td>\n",
              "      <td>5.584425e+09</td>\n",
              "      <td>5.231062e+09</td>\n",
              "      <td>2.153971e+10</td>\n",
              "      <td>2.537646e+09</td>\n",
              "      <td>4.959277e+09</td>\n",
              "      <td>2.291011e+10</td>\n",
              "    </tr>\n",
              "    <tr>\n",
              "      <th>10510</th>\n",
              "      <td>894</td>\n",
              "      <td>Zambia</td>\n",
              "      <td>2020</td>\n",
              "      <td>18.344093</td>\n",
              "      <td>18.344093</td>\n",
              "      <td>18927715</td>\n",
              "      <td>Kwacha</td>\n",
              "      <td>928</td>\n",
              "      <td>5.391694e+08</td>\n",
              "      <td>439295787.0</td>\n",
              "      <td>...</td>\n",
              "      <td>5.409199e+09</td>\n",
              "      <td>6.969267e+09</td>\n",
              "      <td>5.892353e+09</td>\n",
              "      <td>1.397303e+09</td>\n",
              "      <td>4.269405e+09</td>\n",
              "      <td>4.217431e+09</td>\n",
              "      <td>1.718020e+10</td>\n",
              "      <td>2.258715e+09</td>\n",
              "      <td>3.234123e+09</td>\n",
              "      <td>1.756233e+10</td>\n",
              "    </tr>\n",
              "    <tr>\n",
              "      <th>10511</th>\n",
              "      <td>894</td>\n",
              "      <td>Zambia</td>\n",
              "      <td>2021</td>\n",
              "      <td>20.018487</td>\n",
              "      <td>20.018487</td>\n",
              "      <td>19473125</td>\n",
              "      <td>Kwacha</td>\n",
              "      <td>1062</td>\n",
              "      <td>6.285287e+08</td>\n",
              "      <td>293485060.0</td>\n",
              "      <td>...</td>\n",
              "      <td>5.809129e+09</td>\n",
              "      <td>8.423339e+09</td>\n",
              "      <td>7.735235e+09</td>\n",
              "      <td>1.876458e+09</td>\n",
              "      <td>6.639510e+09</td>\n",
              "      <td>4.250492e+09</td>\n",
              "      <td>2.071254e+10</td>\n",
              "      <td>2.060541e+09</td>\n",
              "      <td>3.881353e+09</td>\n",
              "      <td>2.067962e+10</td>\n",
              "    </tr>\n",
              "  </tbody>\n",
              "</table>\n",
              "<p>10512 rows × 25 columns</p>\n",
              "</div>\n",
              "    <div class=\"colab-df-buttons\">\n",
              "\n",
              "  <div class=\"colab-df-container\">\n",
              "    <button class=\"colab-df-convert\" onclick=\"convertToInteractive('df-f153a0c6-6da7-4a10-ae5c-9dbe785f34a5')\"\n",
              "            title=\"Convert this dataframe to an interactive table.\"\n",
              "            style=\"display:none;\">\n",
              "\n",
              "  <svg xmlns=\"http://www.w3.org/2000/svg\" height=\"24px\" viewBox=\"0 -960 960 960\">\n",
              "    <path d=\"M120-120v-720h720v720H120Zm60-500h600v-160H180v160Zm220 220h160v-160H400v160Zm0 220h160v-160H400v160ZM180-400h160v-160H180v160Zm440 0h160v-160H620v160ZM180-180h160v-160H180v160Zm440 0h160v-160H620v160Z\"/>\n",
              "  </svg>\n",
              "    </button>\n",
              "\n",
              "  <style>\n",
              "    .colab-df-container {\n",
              "      display:flex;\n",
              "      gap: 12px;\n",
              "    }\n",
              "\n",
              "    .colab-df-convert {\n",
              "      background-color: #E8F0FE;\n",
              "      border: none;\n",
              "      border-radius: 50%;\n",
              "      cursor: pointer;\n",
              "      display: none;\n",
              "      fill: #1967D2;\n",
              "      height: 32px;\n",
              "      padding: 0 0 0 0;\n",
              "      width: 32px;\n",
              "    }\n",
              "\n",
              "    .colab-df-convert:hover {\n",
              "      background-color: #E2EBFA;\n",
              "      box-shadow: 0px 1px 2px rgba(60, 64, 67, 0.3), 0px 1px 3px 1px rgba(60, 64, 67, 0.15);\n",
              "      fill: #174EA6;\n",
              "    }\n",
              "\n",
              "    .colab-df-buttons div {\n",
              "      margin-bottom: 4px;\n",
              "    }\n",
              "\n",
              "    [theme=dark] .colab-df-convert {\n",
              "      background-color: #3B4455;\n",
              "      fill: #D2E3FC;\n",
              "    }\n",
              "\n",
              "    [theme=dark] .colab-df-convert:hover {\n",
              "      background-color: #434B5C;\n",
              "      box-shadow: 0px 1px 3px 1px rgba(0, 0, 0, 0.15);\n",
              "      filter: drop-shadow(0px 1px 2px rgba(0, 0, 0, 0.3));\n",
              "      fill: #FFFFFF;\n",
              "    }\n",
              "  </style>\n",
              "\n",
              "    <script>\n",
              "      const buttonEl =\n",
              "        document.querySelector('#df-f153a0c6-6da7-4a10-ae5c-9dbe785f34a5 button.colab-df-convert');\n",
              "      buttonEl.style.display =\n",
              "        google.colab.kernel.accessAllowed ? 'block' : 'none';\n",
              "\n",
              "      async function convertToInteractive(key) {\n",
              "        const element = document.querySelector('#df-f153a0c6-6da7-4a10-ae5c-9dbe785f34a5');\n",
              "        const dataTable =\n",
              "          await google.colab.kernel.invokeFunction('convertToInteractive',\n",
              "                                                    [key], {});\n",
              "        if (!dataTable) return;\n",
              "\n",
              "        const docLinkHtml = 'Like what you see? Visit the ' +\n",
              "          '<a target=\"_blank\" href=https://colab.research.google.com/notebooks/data_table.ipynb>data table notebook</a>'\n",
              "          + ' to learn more about interactive tables.';\n",
              "        element.innerHTML = '';\n",
              "        dataTable['output_type'] = 'display_data';\n",
              "        await google.colab.output.renderOutput(dataTable, element);\n",
              "        const docLink = document.createElement('div');\n",
              "        docLink.innerHTML = docLinkHtml;\n",
              "        element.appendChild(docLink);\n",
              "      }\n",
              "    </script>\n",
              "  </div>\n",
              "\n",
              "\n",
              "<div id=\"df-e44396cd-a6a6-4730-bddc-2ba59789afd4\">\n",
              "  <button class=\"colab-df-quickchart\" onclick=\"quickchart('df-e44396cd-a6a6-4730-bddc-2ba59789afd4')\"\n",
              "            title=\"Suggest charts\"\n",
              "            style=\"display:none;\">\n",
              "\n",
              "<svg xmlns=\"http://www.w3.org/2000/svg\" height=\"24px\"viewBox=\"0 0 24 24\"\n",
              "     width=\"24px\">\n",
              "    <g>\n",
              "        <path d=\"M19 3H5c-1.1 0-2 .9-2 2v14c0 1.1.9 2 2 2h14c1.1 0 2-.9 2-2V5c0-1.1-.9-2-2-2zM9 17H7v-7h2v7zm4 0h-2V7h2v10zm4 0h-2v-4h2v4z\"/>\n",
              "    </g>\n",
              "</svg>\n",
              "  </button>\n",
              "\n",
              "<style>\n",
              "  .colab-df-quickchart {\n",
              "      --bg-color: #E8F0FE;\n",
              "      --fill-color: #1967D2;\n",
              "      --hover-bg-color: #E2EBFA;\n",
              "      --hover-fill-color: #174EA6;\n",
              "      --disabled-fill-color: #AAA;\n",
              "      --disabled-bg-color: #DDD;\n",
              "  }\n",
              "\n",
              "  [theme=dark] .colab-df-quickchart {\n",
              "      --bg-color: #3B4455;\n",
              "      --fill-color: #D2E3FC;\n",
              "      --hover-bg-color: #434B5C;\n",
              "      --hover-fill-color: #FFFFFF;\n",
              "      --disabled-bg-color: #3B4455;\n",
              "      --disabled-fill-color: #666;\n",
              "  }\n",
              "\n",
              "  .colab-df-quickchart {\n",
              "    background-color: var(--bg-color);\n",
              "    border: none;\n",
              "    border-radius: 50%;\n",
              "    cursor: pointer;\n",
              "    display: none;\n",
              "    fill: var(--fill-color);\n",
              "    height: 32px;\n",
              "    padding: 0;\n",
              "    width: 32px;\n",
              "  }\n",
              "\n",
              "  .colab-df-quickchart:hover {\n",
              "    background-color: var(--hover-bg-color);\n",
              "    box-shadow: 0 1px 2px rgba(60, 64, 67, 0.3), 0 1px 3px 1px rgba(60, 64, 67, 0.15);\n",
              "    fill: var(--button-hover-fill-color);\n",
              "  }\n",
              "\n",
              "  .colab-df-quickchart-complete:disabled,\n",
              "  .colab-df-quickchart-complete:disabled:hover {\n",
              "    background-color: var(--disabled-bg-color);\n",
              "    fill: var(--disabled-fill-color);\n",
              "    box-shadow: none;\n",
              "  }\n",
              "\n",
              "  .colab-df-spinner {\n",
              "    border: 2px solid var(--fill-color);\n",
              "    border-color: transparent;\n",
              "    border-bottom-color: var(--fill-color);\n",
              "    animation:\n",
              "      spin 1s steps(1) infinite;\n",
              "  }\n",
              "\n",
              "  @keyframes spin {\n",
              "    0% {\n",
              "      border-color: transparent;\n",
              "      border-bottom-color: var(--fill-color);\n",
              "      border-left-color: var(--fill-color);\n",
              "    }\n",
              "    20% {\n",
              "      border-color: transparent;\n",
              "      border-left-color: var(--fill-color);\n",
              "      border-top-color: var(--fill-color);\n",
              "    }\n",
              "    30% {\n",
              "      border-color: transparent;\n",
              "      border-left-color: var(--fill-color);\n",
              "      border-top-color: var(--fill-color);\n",
              "      border-right-color: var(--fill-color);\n",
              "    }\n",
              "    40% {\n",
              "      border-color: transparent;\n",
              "      border-right-color: var(--fill-color);\n",
              "      border-top-color: var(--fill-color);\n",
              "    }\n",
              "    60% {\n",
              "      border-color: transparent;\n",
              "      border-right-color: var(--fill-color);\n",
              "    }\n",
              "    80% {\n",
              "      border-color: transparent;\n",
              "      border-right-color: var(--fill-color);\n",
              "      border-bottom-color: var(--fill-color);\n",
              "    }\n",
              "    90% {\n",
              "      border-color: transparent;\n",
              "      border-bottom-color: var(--fill-color);\n",
              "    }\n",
              "  }\n",
              "</style>\n",
              "\n",
              "  <script>\n",
              "    async function quickchart(key) {\n",
              "      const quickchartButtonEl =\n",
              "        document.querySelector('#' + key + ' button');\n",
              "      quickchartButtonEl.disabled = true;  // To prevent multiple clicks.\n",
              "      quickchartButtonEl.classList.add('colab-df-spinner');\n",
              "      try {\n",
              "        const charts = await google.colab.kernel.invokeFunction(\n",
              "            'suggestCharts', [key], {});\n",
              "      } catch (error) {\n",
              "        console.error('Error during call to suggestCharts:', error);\n",
              "      }\n",
              "      quickchartButtonEl.classList.remove('colab-df-spinner');\n",
              "      quickchartButtonEl.classList.add('colab-df-quickchart-complete');\n",
              "    }\n",
              "    (() => {\n",
              "      let quickchartButtonEl =\n",
              "        document.querySelector('#df-e44396cd-a6a6-4730-bddc-2ba59789afd4 button');\n",
              "      quickchartButtonEl.style.display =\n",
              "        google.colab.kernel.accessAllowed ? 'block' : 'none';\n",
              "    })();\n",
              "  </script>\n",
              "</div>\n",
              "\n",
              "  <div id=\"id_a848529e-48b2-40d7-8a41-013abb0ff8f6\">\n",
              "    <style>\n",
              "      .colab-df-generate {\n",
              "        background-color: #E8F0FE;\n",
              "        border: none;\n",
              "        border-radius: 50%;\n",
              "        cursor: pointer;\n",
              "        display: none;\n",
              "        fill: #1967D2;\n",
              "        height: 32px;\n",
              "        padding: 0 0 0 0;\n",
              "        width: 32px;\n",
              "      }\n",
              "\n",
              "      .colab-df-generate:hover {\n",
              "        background-color: #E2EBFA;\n",
              "        box-shadow: 0px 1px 2px rgba(60, 64, 67, 0.3), 0px 1px 3px 1px rgba(60, 64, 67, 0.15);\n",
              "        fill: #174EA6;\n",
              "      }\n",
              "\n",
              "      [theme=dark] .colab-df-generate {\n",
              "        background-color: #3B4455;\n",
              "        fill: #D2E3FC;\n",
              "      }\n",
              "\n",
              "      [theme=dark] .colab-df-generate:hover {\n",
              "        background-color: #434B5C;\n",
              "        box-shadow: 0px 1px 3px 1px rgba(0, 0, 0, 0.15);\n",
              "        filter: drop-shadow(0px 1px 2px rgba(0, 0, 0, 0.3));\n",
              "        fill: #FFFFFF;\n",
              "      }\n",
              "    </style>\n",
              "    <button class=\"colab-df-generate\" onclick=\"generateWithVariable('X')\"\n",
              "            title=\"Generate code using this dataframe.\"\n",
              "            style=\"display:none;\">\n",
              "\n",
              "  <svg xmlns=\"http://www.w3.org/2000/svg\" height=\"24px\"viewBox=\"0 0 24 24\"\n",
              "       width=\"24px\">\n",
              "    <path d=\"M7,19H8.4L18.45,9,17,7.55,7,17.6ZM5,21V16.75L18.45,3.32a2,2,0,0,1,2.83,0l1.4,1.43a1.91,1.91,0,0,1,.58,1.4,1.91,1.91,0,0,1-.58,1.4L9.25,21ZM18.45,9,17,7.55Zm-12,3A5.31,5.31,0,0,0,4.9,8.1,5.31,5.31,0,0,0,1,6.5,5.31,5.31,0,0,0,4.9,4.9,5.31,5.31,0,0,0,6.5,1,5.31,5.31,0,0,0,8.1,4.9,5.31,5.31,0,0,0,12,6.5,5.46,5.46,0,0,0,6.5,12Z\"/>\n",
              "  </svg>\n",
              "    </button>\n",
              "    <script>\n",
              "      (() => {\n",
              "      const buttonEl =\n",
              "        document.querySelector('#id_a848529e-48b2-40d7-8a41-013abb0ff8f6 button.colab-df-generate');\n",
              "      buttonEl.style.display =\n",
              "        google.colab.kernel.accessAllowed ? 'block' : 'none';\n",
              "\n",
              "      buttonEl.onclick = () => {\n",
              "        google.colab.notebook.generateWithVariable('X');\n",
              "      }\n",
              "      })();\n",
              "    </script>\n",
              "  </div>\n",
              "\n",
              "    </div>\n",
              "  </div>\n"
            ]
          },
          "metadata": {},
          "execution_count": 115
        }
      ]
    },
    {
      "cell_type": "code",
      "source": [
        "X.dtypes"
      ],
      "metadata": {
        "colab": {
          "base_uri": "https://localhost:8080/"
        },
        "id": "T8ULUvWTnygg",
        "outputId": "37372fae-73ca-4f80-a064-3a90d5bd0073"
      },
      "execution_count": 116,
      "outputs": [
        {
          "output_type": "execute_result",
          "data": {
            "text/plain": [
              " CountryID                                                                                      int64\n",
              " Country                                                                                       object\n",
              " Year                                                                                           int64\n",
              " AMA exchange rate                                                                            float64\n",
              " IMF based exchange rate                                                                      float64\n",
              " Population                                                                                     int64\n",
              " Currency                                                                                      object\n",
              " Per capita GNI                                                                                 int64\n",
              " Agriculture, hunting, forestry, fishing (ISIC A-B)                                           float64\n",
              " Changes in inventories                                                                       float64\n",
              " Construction (ISIC F)                                                                        float64\n",
              " Exports of goods and services                                                                float64\n",
              " Final consumption expenditure                                                                float64\n",
              " General government final consumption expenditure                                             float64\n",
              " Gross capital formation                                                                      float64\n",
              " Gross fixed capital formation (including Acquisitions less disposals of valuables)           float64\n",
              " Household consumption expenditure (including Non-profit institutions serving households)     float64\n",
              " Imports of goods and services                                                                float64\n",
              " Manufacturing (ISIC D)                                                                       float64\n",
              " Mining, Manufacturing, Utilities (ISIC C-E)                                                  float64\n",
              " Other Activities (ISIC J-P)                                                                  float64\n",
              " Total Value Added                                                                            float64\n",
              " Transport, storage and communication (ISIC I)                                                float64\n",
              " Wholesale, retail trade, restaurants and hotels (ISIC G-H)                                   float64\n",
              " Gross National Income(GNI) in USD                                                            float64\n",
              "dtype: object"
            ]
          },
          "metadata": {},
          "execution_count": 116
        }
      ]
    },
    {
      "cell_type": "code",
      "source": [
        "y = dataset.iloc[:,-1].values"
      ],
      "metadata": {
        "id": "s211OI5uvZoR"
      },
      "execution_count": 117,
      "outputs": []
    },
    {
      "cell_type": "code",
      "source": [
        "y.shape"
      ],
      "metadata": {
        "colab": {
          "base_uri": "https://localhost:8080/"
        },
        "id": "xzJyQwhIvfWu",
        "outputId": "ec019c04-3e2b-482a-d319-52beb007757b"
      },
      "execution_count": 118,
      "outputs": [
        {
          "output_type": "execute_result",
          "data": {
            "text/plain": [
              "(10512,)"
            ]
          },
          "metadata": {},
          "execution_count": 118
        }
      ]
    },
    {
      "cell_type": "code",
      "source": [
        "y.dtype"
      ],
      "metadata": {
        "colab": {
          "base_uri": "https://localhost:8080/"
        },
        "id": "xrFHxIzcntfX",
        "outputId": "bda27f63-b4f2-4dd4-dfc8-cdd35b15e36e"
      },
      "execution_count": 119,
      "outputs": [
        {
          "output_type": "execute_result",
          "data": {
            "text/plain": [
              "dtype('float64')"
            ]
          },
          "metadata": {},
          "execution_count": 119
        }
      ]
    },
    {
      "cell_type": "code",
      "source": [
        "# X[:,[8,9,11,13,14,15,16,17,18,22,23]]"
      ],
      "metadata": {
        "id": "hV74ObyfhIUS"
      },
      "execution_count": 120,
      "outputs": []
    },
    {
      "cell_type": "code",
      "source": [
        "# columns_X = dataset.columns[:-1]\n",
        "# print(columns_X)"
      ],
      "metadata": {
        "id": "fVnjydUThWpH"
      },
      "execution_count": 121,
      "outputs": []
    },
    {
      "cell_type": "code",
      "source": [
        "# columns_y = dataset.columns[-1]\n",
        "# print(columns_y)"
      ],
      "metadata": {
        "id": "suyq3Xk3jaUk"
      },
      "execution_count": 122,
      "outputs": []
    },
    {
      "cell_type": "markdown",
      "source": [
        "## Removing the Null Values"
      ],
      "metadata": {
        "id": "M0bToq0DRqjF"
      }
    },
    {
      "cell_type": "code",
      "source": [
        "X.dtypes"
      ],
      "metadata": {
        "colab": {
          "base_uri": "https://localhost:8080/"
        },
        "id": "mf_O7bWzpcnD",
        "outputId": "dcbe6bce-1039-483a-f5e5-44369a548e2d"
      },
      "execution_count": 123,
      "outputs": [
        {
          "output_type": "execute_result",
          "data": {
            "text/plain": [
              " CountryID                                                                                      int64\n",
              " Country                                                                                       object\n",
              " Year                                                                                           int64\n",
              " AMA exchange rate                                                                            float64\n",
              " IMF based exchange rate                                                                      float64\n",
              " Population                                                                                     int64\n",
              " Currency                                                                                      object\n",
              " Per capita GNI                                                                                 int64\n",
              " Agriculture, hunting, forestry, fishing (ISIC A-B)                                           float64\n",
              " Changes in inventories                                                                       float64\n",
              " Construction (ISIC F)                                                                        float64\n",
              " Exports of goods and services                                                                float64\n",
              " Final consumption expenditure                                                                float64\n",
              " General government final consumption expenditure                                             float64\n",
              " Gross capital formation                                                                      float64\n",
              " Gross fixed capital formation (including Acquisitions less disposals of valuables)           float64\n",
              " Household consumption expenditure (including Non-profit institutions serving households)     float64\n",
              " Imports of goods and services                                                                float64\n",
              " Manufacturing (ISIC D)                                                                       float64\n",
              " Mining, Manufacturing, Utilities (ISIC C-E)                                                  float64\n",
              " Other Activities (ISIC J-P)                                                                  float64\n",
              " Total Value Added                                                                            float64\n",
              " Transport, storage and communication (ISIC I)                                                float64\n",
              " Wholesale, retail trade, restaurants and hotels (ISIC G-H)                                   float64\n",
              " Gross National Income(GNI) in USD                                                            float64\n",
              "dtype: object"
            ]
          },
          "metadata": {},
          "execution_count": 123
        }
      ]
    },
    {
      "cell_type": "code",
      "source": [
        "int_columns = X.select_dtypes(include=['float64', 'int64']).columns"
      ],
      "metadata": {
        "id": "dgsEykCppUT8"
      },
      "execution_count": 124,
      "outputs": []
    },
    {
      "cell_type": "code",
      "source": [
        "int_columns"
      ],
      "metadata": {
        "colab": {
          "base_uri": "https://localhost:8080/"
        },
        "id": "KLChcnMxpZpa",
        "outputId": "08ba90fb-9d1c-4d08-885b-7c7d4e91602e"
      },
      "execution_count": 125,
      "outputs": [
        {
          "output_type": "execute_result",
          "data": {
            "text/plain": [
              "Index([' CountryID ', ' Year ', ' AMA exchange rate ',\n",
              "       ' IMF based exchange rate ', ' Population ', ' Per capita GNI ',\n",
              "       ' Agriculture, hunting, forestry, fishing (ISIC A-B) ',\n",
              "       ' Changes in inventories ', ' Construction (ISIC F) ',\n",
              "       ' Exports of goods and services ', ' Final consumption expenditure ',\n",
              "       ' General government final consumption expenditure ',\n",
              "       ' Gross capital formation ',\n",
              "       ' Gross fixed capital formation (including Acquisitions less disposals of valuables) ',\n",
              "       ' Household consumption expenditure (including Non-profit institutions serving households) ',\n",
              "       ' Imports of goods and services ', ' Manufacturing (ISIC D) ',\n",
              "       ' Mining, Manufacturing, Utilities (ISIC C-E) ',\n",
              "       ' Other Activities (ISIC J-P) ', ' Total Value Added ',\n",
              "       ' Transport, storage and communication (ISIC I) ',\n",
              "       ' Wholesale, retail trade, restaurants and hotels (ISIC G-H) ',\n",
              "       ' Gross National Income(GNI) in USD '],\n",
              "      dtype='object')"
            ]
          },
          "metadata": {},
          "execution_count": 125
        }
      ]
    },
    {
      "cell_type": "code",
      "source": [
        "columns_with_nulls = X.columns[X.isnull().any()]"
      ],
      "metadata": {
        "id": "ThIuocPVrQVL"
      },
      "execution_count": 126,
      "outputs": []
    },
    {
      "cell_type": "code",
      "source": [
        "from sklearn.impute import SimpleImputer\n",
        "imputer = SimpleImputer(missing_values = np.nan,strategy='mean')\n",
        "# X[:,[8,9,11,13,14,15,16,17,18,22,23]]=imputer.fit_transform(X[:,[8,9,11,13,14,15,16,17,18,22,23]])\n",
        "X[columns_with_nulls] = pd.DataFrame(imputer.fit_transform(X[columns_with_nulls]), columns=columns_with_nulls)"
      ],
      "metadata": {
        "id": "Emy8OZOhPEjE"
      },
      "execution_count": 127,
      "outputs": []
    },
    {
      "cell_type": "code",
      "source": [
        "X.isnull().sum()"
      ],
      "metadata": {
        "colab": {
          "base_uri": "https://localhost:8080/"
        },
        "id": "4zDaqjdJquX8",
        "outputId": "640e4ac3-93a3-467d-ca29-b6c894ec71cb"
      },
      "execution_count": 128,
      "outputs": [
        {
          "output_type": "execute_result",
          "data": {
            "text/plain": [
              " CountryID                                                                                    0\n",
              " Country                                                                                      0\n",
              " Year                                                                                         0\n",
              " AMA exchange rate                                                                            0\n",
              " IMF based exchange rate                                                                      0\n",
              " Population                                                                                   0\n",
              " Currency                                                                                     0\n",
              " Per capita GNI                                                                               0\n",
              " Agriculture, hunting, forestry, fishing (ISIC A-B)                                           0\n",
              " Changes in inventories                                                                       0\n",
              " Construction (ISIC F)                                                                        0\n",
              " Exports of goods and services                                                                0\n",
              " Final consumption expenditure                                                                0\n",
              " General government final consumption expenditure                                             0\n",
              " Gross capital formation                                                                      0\n",
              " Gross fixed capital formation (including Acquisitions less disposals of valuables)           0\n",
              " Household consumption expenditure (including Non-profit institutions serving households)     0\n",
              " Imports of goods and services                                                                0\n",
              " Manufacturing (ISIC D)                                                                       0\n",
              " Mining, Manufacturing, Utilities (ISIC C-E)                                                  0\n",
              " Other Activities (ISIC J-P)                                                                  0\n",
              " Total Value Added                                                                            0\n",
              " Transport, storage and communication (ISIC I)                                                0\n",
              " Wholesale, retail trade, restaurants and hotels (ISIC G-H)                                   0\n",
              " Gross National Income(GNI) in USD                                                            0\n",
              "dtype: int64"
            ]
          },
          "metadata": {},
          "execution_count": 128
        }
      ]
    },
    {
      "cell_type": "code",
      "source": [
        "print(y)"
      ],
      "metadata": {
        "colab": {
          "base_uri": "https://localhost:8080/"
        },
        "id": "5koe7DcD6o2s",
        "outputId": "bd617c0b-bb5f-4b09-ecbd-68513cfd8a6b"
      },
      "execution_count": 129,
      "outputs": [
        {
          "output_type": "stream",
          "name": "stdout",
          "text": [
            "[1.73143559e+09 1.81283752e+09 1.64790018e+09 ... 2.33103622e+10\n",
            " 1.81106386e+10 2.13133667e+10]\n"
          ]
        }
      ]
    },
    {
      "cell_type": "markdown",
      "source": [
        "# Normalisation"
      ],
      "metadata": {
        "id": "Z7BRwqjjnH5t"
      }
    },
    {
      "cell_type": "code",
      "source": [
        "from sklearn.preprocessing import MinMaxScaler\n",
        "scaler = MinMaxScaler()"
      ],
      "metadata": {
        "id": "JqR-UZeOnKzP"
      },
      "execution_count": 130,
      "outputs": []
    },
    {
      "cell_type": "code",
      "source": [
        "int_columns = X.select_dtypes(include=['float64', 'int64']).columns"
      ],
      "metadata": {
        "id": "ywHZYqT0lY24"
      },
      "execution_count": 131,
      "outputs": []
    },
    {
      "cell_type": "code",
      "source": [
        "print(int_columns)"
      ],
      "metadata": {
        "colab": {
          "base_uri": "https://localhost:8080/"
        },
        "id": "sthopHy_obhG",
        "outputId": "c6fefd3a-6769-4e4d-a032-87526473e564"
      },
      "execution_count": 132,
      "outputs": [
        {
          "output_type": "stream",
          "name": "stdout",
          "text": [
            "Index([' CountryID ', ' Year ', ' AMA exchange rate ',\n",
            "       ' IMF based exchange rate ', ' Population ', ' Per capita GNI ',\n",
            "       ' Agriculture, hunting, forestry, fishing (ISIC A-B) ',\n",
            "       ' Changes in inventories ', ' Construction (ISIC F) ',\n",
            "       ' Exports of goods and services ', ' Final consumption expenditure ',\n",
            "       ' General government final consumption expenditure ',\n",
            "       ' Gross capital formation ',\n",
            "       ' Gross fixed capital formation (including Acquisitions less disposals of valuables) ',\n",
            "       ' Household consumption expenditure (including Non-profit institutions serving households) ',\n",
            "       ' Imports of goods and services ', ' Manufacturing (ISIC D) ',\n",
            "       ' Mining, Manufacturing, Utilities (ISIC C-E) ',\n",
            "       ' Other Activities (ISIC J-P) ', ' Total Value Added ',\n",
            "       ' Transport, storage and communication (ISIC I) ',\n",
            "       ' Wholesale, retail trade, restaurants and hotels (ISIC G-H) ',\n",
            "       ' Gross National Income(GNI) in USD '],\n",
            "      dtype='object')\n"
          ]
        }
      ]
    },
    {
      "cell_type": "code",
      "source": [
        "print(X)"
      ],
      "metadata": {
        "colab": {
          "base_uri": "https://localhost:8080/"
        },
        "id": "hq-A4pONps8R",
        "outputId": "32266b1f-655c-422a-915a-713b29a08275"
      },
      "execution_count": 133,
      "outputs": [
        {
          "output_type": "stream",
          "name": "stdout",
          "text": [
            "        CountryID        Country    Year    AMA exchange rate   \\\n",
            "0                4   Afghanistan     1970             0.044998   \n",
            "1                4   Afghanistan     1971             0.044998   \n",
            "2                4   Afghanistan     1972             0.044998   \n",
            "3                4   Afghanistan     1973             0.044998   \n",
            "4                4   Afghanistan     1974             0.044998   \n",
            "...            ...            ...     ...                  ...   \n",
            "10507          894        Zambia     2017             9.519501   \n",
            "10508          894        Zambia     2018            10.458143   \n",
            "10509          894        Zambia     2019            12.889418   \n",
            "10510          894        Zambia     2020            18.344093   \n",
            "10511          894        Zambia     2021            20.018487   \n",
            "\n",
            "        IMF based exchange rate    Population   Currency    Per capita GNI   \\\n",
            "0                       0.044998      10752971   Afghani                164   \n",
            "1                       0.044998      11015857   Afghani                168   \n",
            "2                       0.044998      11286753   Afghani                149   \n",
            "3                       0.044998      11575305   Afghani                150   \n",
            "4                       0.044998      11869879   Afghani                177   \n",
            "...                          ...           ...        ...               ...   \n",
            "10507                   9.519501      17298054    Kwacha               1448   \n",
            "10508                  10.458143      17835893    Kwacha               1451   \n",
            "10509                  12.889418      18380477    Kwacha               1246   \n",
            "10510                  18.344093      18927715    Kwacha                928   \n",
            "10511                  20.018487      19473125    Kwacha               1062   \n",
            "\n",
            "        Agriculture, hunting, forestry, fishing (ISIC A-B)   \\\n",
            "0                                           8.699174e+08      \n",
            "1                                           9.108281e+08      \n",
            "2                                           8.279453e+08      \n",
            "3                                           8.554869e+08      \n",
            "4                                           1.035913e+09      \n",
            "...                                                  ...      \n",
            "10507                                       1.041005e+09      \n",
            "10508                                       8.791160e+08      \n",
            "10509                                       6.668385e+08      \n",
            "10510                                       5.391694e+08      \n",
            "10511                                       6.285287e+08      \n",
            "\n",
            "        Changes in inventories   ...  \\\n",
            "0                  1.626543e+09  ...   \n",
            "1                  1.626543e+09  ...   \n",
            "2                  1.626543e+09  ...   \n",
            "3                  1.626543e+09  ...   \n",
            "4                  1.626543e+09  ...   \n",
            "...                         ...  ...   \n",
            "10507              5.677293e+08  ...   \n",
            "10508              9.290634e+08  ...   \n",
            "10509              8.171044e+08  ...   \n",
            "10510              4.392958e+08  ...   \n",
            "10511              2.934851e+08  ...   \n",
            "\n",
            "        Gross fixed capital formation (including Acquisitions less disposals of valuables)   \\\n",
            "0                                           9.461182e+07                                      \n",
            "1                                           9.901235e+07                                      \n",
            "2                                           1.034568e+08                                      \n",
            "3                                           1.217284e+08                                      \n",
            "4                                           1.750619e+08                                      \n",
            "...                                                  ...                                      \n",
            "10507                                       1.003902e+10                                      \n",
            "10508                                       9.238172e+09                                      \n",
            "10509                                       8.334744e+09                                      \n",
            "10510                                       5.409199e+09                                      \n",
            "10511                                       5.809129e+09                                      \n",
            "\n",
            "        Household consumption expenditure (including Non-profit institutions serving households)   \\\n",
            "0                                           1.551094e+09                                            \n",
            "1                                           1.675426e+09                                            \n",
            "2                                           1.498812e+09                                            \n",
            "3                                           1.508024e+09                                            \n",
            "4                                           1.778819e+09                                            \n",
            "...                                                  ...                                            \n",
            "10507                                       1.215309e+10                                            \n",
            "10508                                       1.183200e+10                                            \n",
            "10509                                       9.848112e+09                                            \n",
            "10510                                       6.969267e+09                                            \n",
            "10511                                       8.423339e+09                                            \n",
            "\n",
            "        Imports of goods and services    Manufacturing (ISIC D)   \\\n",
            "0                         1.952772e+08              3.701468e+08   \n",
            "1                         2.762965e+08              3.875495e+08   \n",
            "2                         2.903704e+08              3.522847e+08   \n",
            "3                         2.629629e+08              3.640103e+08   \n",
            "4                         3.056792e+08              4.407604e+08   \n",
            "...                                ...                       ...   \n",
            "10507                     9.465895e+09              2.102369e+09   \n",
            "10508                     9.717269e+09              1.801783e+09   \n",
            "10509                     7.961415e+09              1.582484e+09   \n",
            "10510                     5.892353e+09              1.397303e+09   \n",
            "10511                     7.735235e+09              1.876458e+09   \n",
            "\n",
            "        Mining, Manufacturing, Utilities (ISIC C-E)   \\\n",
            "0                                       3.766908e+08   \n",
            "1                                       3.944012e+08   \n",
            "2                                       3.585129e+08   \n",
            "3                                       3.704458e+08   \n",
            "4                                       4.485528e+08   \n",
            "...                                              ...   \n",
            "10507                                   7.194153e+09   \n",
            "10508                                   6.556884e+09   \n",
            "10509                                   5.584425e+09   \n",
            "10510                                   4.269405e+09   \n",
            "10511                                   6.639510e+09   \n",
            "\n",
            "        Other Activities (ISIC J-P)    Total Value Added   \\\n",
            "0                       1.277478e+08         1.731454e+09   \n",
            "1                       1.337541e+08         1.812857e+09   \n",
            "2                       1.215827e+08         1.647918e+09   \n",
            "3                       1.256302e+08         1.702735e+09   \n",
            "4                       1.521192e+08         2.061752e+09   \n",
            "...                              ...                  ...   \n",
            "10507                   6.187124e+09         2.416662e+10   \n",
            "10508                   5.791375e+09         2.422570e+10   \n",
            "10509                   5.231062e+09         2.153971e+10   \n",
            "10510                   4.217431e+09         1.718020e+10   \n",
            "10511                   4.250492e+09         2.071254e+10   \n",
            "\n",
            "        Transport, storage and communication (ISIC I)   \\\n",
            "0                                         8.391720e+07   \n",
            "1                                         8.786038e+07   \n",
            "2                                         7.986452e+07   \n",
            "3                                         8.252888e+07   \n",
            "4                                         9.991860e+07   \n",
            "...                                                ...   \n",
            "10507                                     1.965026e+09   \n",
            "10508                                     2.490720e+09   \n",
            "10509                                     2.537646e+09   \n",
            "10510                                     2.258715e+09   \n",
            "10511                                     2.060541e+09   \n",
            "\n",
            "        Wholesale, retail trade, restaurants and hotels (ISIC G-H)   \\\n",
            "0                                           2.263871e+08              \n",
            "1                                           2.370192e+08              \n",
            "2                                           2.154773e+08              \n",
            "3                                           2.226243e+08              \n",
            "4                                           2.695259e+08              \n",
            "...                                                  ...              \n",
            "10507                                       5.323590e+09              \n",
            "10508                                       5.990720e+09              \n",
            "10509                                       4.959277e+09              \n",
            "10510                                       3.234123e+09              \n",
            "10511                                       3.881353e+09              \n",
            "\n",
            "        Gross National Income(GNI) in USD   \n",
            "0                             1.766528e+09  \n",
            "1                             1.850122e+09  \n",
            "2                             1.683948e+09  \n",
            "3                             1.739998e+09  \n",
            "4                             2.106420e+09  \n",
            "...                                    ...  \n",
            "10507                         2.505604e+10  \n",
            "10508                         2.588455e+10  \n",
            "10509                         2.291011e+10  \n",
            "10510                         1.756233e+10  \n",
            "10511                         2.067962e+10  \n",
            "\n",
            "[10512 rows x 25 columns]\n"
          ]
        }
      ]
    },
    {
      "cell_type": "code",
      "source": [
        "X[int_columns] = scaler.fit_transform(X[int_columns])"
      ],
      "metadata": {
        "id": "PKW1qYd1vBDk"
      },
      "execution_count": 134,
      "outputs": []
    },
    {
      "cell_type": "code",
      "source": [
        "from sklearn.preprocessing import LabelEncoder\n",
        "le = LabelEncoder()"
      ],
      "metadata": {
        "id": "lpDcMwZUo88O"
      },
      "execution_count": 135,
      "outputs": []
    },
    {
      "cell_type": "code",
      "source": [
        "object_columns = X.select_dtypes(include=['object']).columns"
      ],
      "metadata": {
        "id": "L0xL1mrns-qG"
      },
      "execution_count": 136,
      "outputs": []
    },
    {
      "cell_type": "code",
      "source": [
        "# X[object_columns]= le.fit_transform(X[object_columns])\n",
        "for column in object_columns:\n",
        "  X[column] = le.fit_transform(X[column])"
      ],
      "metadata": {
        "id": "eJr7-VTRb49u"
      },
      "execution_count": 137,
      "outputs": []
    },
    {
      "cell_type": "code",
      "source": [
        "print(X)"
      ],
      "metadata": {
        "colab": {
          "base_uri": "https://localhost:8080/"
        },
        "id": "TAp2ok_4nDKK",
        "outputId": "c80e600b-dc1a-4eca-e133-0133f68121a5"
      },
      "execution_count": 138,
      "outputs": [
        {
          "output_type": "stream",
          "name": "stdout",
          "text": [
            "        CountryID    Country      Year    AMA exchange rate   \\\n",
            "0              0.0          0  0.000000         4.030794e-07   \n",
            "1              0.0          0  0.019608         4.030794e-07   \n",
            "2              0.0          0  0.039216         4.030794e-07   \n",
            "3              0.0          0  0.058824         4.030794e-07   \n",
            "4              0.0          0  0.078431         4.030794e-07   \n",
            "...            ...        ...       ...                  ...   \n",
            "10507          1.0        217  0.921569         8.527220e-05   \n",
            "10508          1.0        217  0.941176         9.368021e-05   \n",
            "10509          1.0        217  0.960784         1.154587e-04   \n",
            "10510          1.0        217  0.980392         1.643197e-04   \n",
            "10511          1.0        217  1.000000         1.793183e-04   \n",
            "\n",
            "        IMF based exchange rate    Population    Currency    Per capita GNI   \\\n",
            "0                       0.000001      0.007538           0          0.000555   \n",
            "1                       0.000001      0.007723           0          0.000572   \n",
            "2                       0.000001      0.007913           0          0.000491   \n",
            "3                       0.000001      0.008115           0          0.000495   \n",
            "4                       0.000001      0.008321           0          0.000610   \n",
            "...                          ...           ...         ...               ...   \n",
            "10507                   0.000227      0.012128          70          0.006035   \n",
            "10508                   0.000249      0.012506          70          0.006048   \n",
            "10509                   0.000307      0.012887          70          0.005173   \n",
            "10510                   0.000437      0.013271          70          0.003816   \n",
            "10511                   0.000477      0.013654          70          0.004388   \n",
            "\n",
            "        Agriculture, hunting, forestry, fishing (ISIC A-B)   \\\n",
            "0                                               0.000644      \n",
            "1                                               0.000675      \n",
            "2                                               0.000613      \n",
            "3                                               0.000634      \n",
            "4                                               0.000767      \n",
            "...                                                  ...      \n",
            "10507                                           0.000771      \n",
            "10508                                           0.000651      \n",
            "10509                                           0.000494      \n",
            "10510                                           0.000399      \n",
            "10511                                           0.000466      \n",
            "\n",
            "        Changes in inventories   ...  \\\n",
            "0                      0.421620  ...   \n",
            "1                      0.421620  ...   \n",
            "2                      0.421620  ...   \n",
            "3                      0.421620  ...   \n",
            "4                      0.421620  ...   \n",
            "...                         ...  ...   \n",
            "10507                  0.418695  ...   \n",
            "10508                  0.419694  ...   \n",
            "10509                  0.419384  ...   \n",
            "10510                  0.418341  ...   \n",
            "10511                  0.417938  ...   \n",
            "\n",
            "        Gross fixed capital formation (including Acquisitions less disposals of valuables)   \\\n",
            "0                                               0.000013                                      \n",
            "1                                               0.000013                                      \n",
            "2                                               0.000014                                      \n",
            "3                                               0.000016                                      \n",
            "4                                               0.000024                                      \n",
            "...                                                  ...                                      \n",
            "10507                                           0.001351                                      \n",
            "10508                                           0.001243                                      \n",
            "10509                                           0.001122                                      \n",
            "10510                                           0.000728                                      \n",
            "10511                                           0.000782                                      \n",
            "\n",
            "        Household consumption expenditure (including Non-profit institutions serving households)   \\\n",
            "0                                               0.000098                                            \n",
            "1                                               0.000105                                            \n",
            "2                                               0.000094                                            \n",
            "3                                               0.000095                                            \n",
            "4                                               0.000112                                            \n",
            "...                                                  ...                                            \n",
            "10507                                           0.000764                                            \n",
            "10508                                           0.000744                                            \n",
            "10509                                           0.000619                                            \n",
            "10510                                           0.000438                                            \n",
            "10511                                           0.000530                                            \n",
            "\n",
            "        Imports of goods and services    Manufacturing (ISIC D)   \\\n",
            "0                             0.000057                  0.000076   \n",
            "1                             0.000081                  0.000080   \n",
            "2                             0.000085                  0.000072   \n",
            "3                             0.000077                  0.000075   \n",
            "4                             0.000089                  0.000091   \n",
            "...                                ...                       ...   \n",
            "10507                         0.002784                  0.000432   \n",
            "10508                         0.002857                  0.000370   \n",
            "10509                         0.002341                  0.000325   \n",
            "10510                         0.001732                  0.000287   \n",
            "10511                         0.002274                  0.000385   \n",
            "\n",
            "        Mining, Manufacturing, Utilities (ISIC C-E)   \\\n",
            "0                                           0.000066   \n",
            "1                                           0.000069   \n",
            "2                                           0.000062   \n",
            "3                                           0.000065   \n",
            "4                                           0.000078   \n",
            "...                                              ...   \n",
            "10507                                       0.001245   \n",
            "10508                                       0.001135   \n",
            "10509                                       0.000967   \n",
            "10510                                       0.000739   \n",
            "10511                                       0.001149   \n",
            "\n",
            "        Other Activities (ISIC J-P)    Total Value Added   \\\n",
            "0                           0.000010             0.000074   \n",
            "1                           0.000010             0.000078   \n",
            "2                           0.000009             0.000071   \n",
            "3                           0.000010             0.000073   \n",
            "4                           0.000012             0.000088   \n",
            "...                              ...                  ...   \n",
            "10507                       0.000480             0.001037   \n",
            "10508                       0.000449             0.001040   \n",
            "10509                       0.000405             0.000924   \n",
            "10510                       0.000327             0.000737   \n",
            "10511                       0.000329             0.000889   \n",
            "\n",
            "        Transport, storage and communication (ISIC I)   \\\n",
            "0                                             0.000036   \n",
            "1                                             0.000038   \n",
            "2                                             0.000035   \n",
            "3                                             0.000036   \n",
            "4                                             0.000043   \n",
            "...                                                ...   \n",
            "10507                                         0.000792   \n",
            "10508                                         0.001003   \n",
            "10509                                         0.001022   \n",
            "10510                                         0.000910   \n",
            "10511                                         0.000830   \n",
            "\n",
            "        Wholesale, retail trade, restaurants and hotels (ISIC G-H)   \\\n",
            "0                                               0.000064              \n",
            "1                                               0.000067              \n",
            "2                                               0.000061              \n",
            "3                                               0.000063              \n",
            "4                                               0.000077              \n",
            "...                                                  ...              \n",
            "10507                                           0.001512              \n",
            "10508                                           0.001702              \n",
            "10509                                           0.001409              \n",
            "10510                                           0.000919              \n",
            "10511                                           0.001103              \n",
            "\n",
            "        Gross National Income(GNI) in USD   \n",
            "0                                 0.000075  \n",
            "1                                 0.000078  \n",
            "2                                 0.000071  \n",
            "3                                 0.000074  \n",
            "4                                 0.000089  \n",
            "...                                    ...  \n",
            "10507                             0.001062  \n",
            "10508                             0.001097  \n",
            "10509                             0.000971  \n",
            "10510                             0.000744  \n",
            "10511                             0.000876  \n",
            "\n",
            "[10512 rows x 25 columns]\n"
          ]
        }
      ]
    },
    {
      "cell_type": "markdown",
      "source": [
        "# Feature Selection"
      ],
      "metadata": {
        "id": "8nMM4A4VothI"
      }
    },
    {
      "cell_type": "markdown",
      "source": [
        "## SelectKBest"
      ],
      "metadata": {
        "id": "5LqFZZmd_v_T"
      }
    },
    {
      "cell_type": "code",
      "source": [
        "from sklearn.feature_selection import SelectKBest, chi2"
      ],
      "metadata": {
        "id": "EMwUj4nuoxL1"
      },
      "execution_count": 139,
      "outputs": []
    },
    {
      "cell_type": "code",
      "source": [
        "X1 = SelectKBest(chi2, k=7).fit_transform(X[int_columns], y)"
      ],
      "metadata": {
        "id": "x_ua_fwDyy77"
      },
      "execution_count": 140,
      "outputs": []
    },
    {
      "cell_type": "code",
      "source": [
        "X1"
      ],
      "metadata": {
        "colab": {
          "base_uri": "https://localhost:8080/"
        },
        "id": "Kd2K4kHT7noO",
        "outputId": "190a0939-2b17-4f25-e632-907f7e306b91"
      },
      "execution_count": 141,
      "outputs": [
        {
          "output_type": "execute_result",
          "data": {
            "text/plain": [
              "array([[8.60713740e-05, 3.33214539e-05, 9.82200103e-06, ...,\n",
              "        3.63036196e-05, 6.42491184e-05, 7.47018203e-05],\n",
              "       [9.29791453e-05, 3.60043937e-05, 1.02876022e-05, ...,\n",
              "        3.78872227e-05, 6.72696030e-05, 7.82439559e-05],\n",
              "       [8.31666136e-05, 3.21932618e-05, 9.34408076e-06, ...,\n",
              "        3.46760435e-05, 6.11497421e-05, 7.12026833e-05],\n",
              "       ...,\n",
              "       [7.23741872e-04, 1.23034310e-03, 4.05427757e-04, ...,\n",
              "        1.02173432e-03, 1.40882034e-03, 9.70616528e-04],\n",
              "       [4.99046469e-04, 7.95185970e-04, 3.26851691e-04, ...,\n",
              "        9.09714205e-04, 9.18719476e-04, 7.44015743e-04],\n",
              "       [5.92880822e-04, 9.01732377e-04, 3.29414571e-04, ...,\n",
              "        8.30126484e-04, 1.10259181e-03, 8.76104142e-04]])"
            ]
          },
          "metadata": {},
          "execution_count": 141
        }
      ]
    },
    {
      "cell_type": "markdown",
      "source": [
        "## PCA"
      ],
      "metadata": {
        "id": "S23FH-aY_z9M"
      }
    },
    {
      "cell_type": "code",
      "source": [
        "from sklearn.decomposition import PCA\n",
        "pca = PCA(n_components=4)\n",
        "pca.fit(X[int_columns])"
      ],
      "metadata": {
        "colab": {
          "base_uri": "https://localhost:8080/",
          "height": 75
        },
        "id": "JA50grCbB23p",
        "outputId": "9a7da95d-d943-4c74-e137-32e28d18a8d5"
      },
      "execution_count": 142,
      "outputs": [
        {
          "output_type": "execute_result",
          "data": {
            "text/plain": [
              "PCA(n_components=4)"
            ],
            "text/html": [
              "<style>#sk-container-id-2 {color: black;background-color: white;}#sk-container-id-2 pre{padding: 0;}#sk-container-id-2 div.sk-toggleable {background-color: white;}#sk-container-id-2 label.sk-toggleable__label {cursor: pointer;display: block;width: 100%;margin-bottom: 0;padding: 0.3em;box-sizing: border-box;text-align: center;}#sk-container-id-2 label.sk-toggleable__label-arrow:before {content: \"▸\";float: left;margin-right: 0.25em;color: #696969;}#sk-container-id-2 label.sk-toggleable__label-arrow:hover:before {color: black;}#sk-container-id-2 div.sk-estimator:hover label.sk-toggleable__label-arrow:before {color: black;}#sk-container-id-2 div.sk-toggleable__content {max-height: 0;max-width: 0;overflow: hidden;text-align: left;background-color: #f0f8ff;}#sk-container-id-2 div.sk-toggleable__content pre {margin: 0.2em;color: black;border-radius: 0.25em;background-color: #f0f8ff;}#sk-container-id-2 input.sk-toggleable__control:checked~div.sk-toggleable__content {max-height: 200px;max-width: 100%;overflow: auto;}#sk-container-id-2 input.sk-toggleable__control:checked~label.sk-toggleable__label-arrow:before {content: \"▾\";}#sk-container-id-2 div.sk-estimator input.sk-toggleable__control:checked~label.sk-toggleable__label {background-color: #d4ebff;}#sk-container-id-2 div.sk-label input.sk-toggleable__control:checked~label.sk-toggleable__label {background-color: #d4ebff;}#sk-container-id-2 input.sk-hidden--visually {border: 0;clip: rect(1px 1px 1px 1px);clip: rect(1px, 1px, 1px, 1px);height: 1px;margin: -1px;overflow: hidden;padding: 0;position: absolute;width: 1px;}#sk-container-id-2 div.sk-estimator {font-family: monospace;background-color: #f0f8ff;border: 1px dotted black;border-radius: 0.25em;box-sizing: border-box;margin-bottom: 0.5em;}#sk-container-id-2 div.sk-estimator:hover {background-color: #d4ebff;}#sk-container-id-2 div.sk-parallel-item::after {content: \"\";width: 100%;border-bottom: 1px solid gray;flex-grow: 1;}#sk-container-id-2 div.sk-label:hover label.sk-toggleable__label {background-color: #d4ebff;}#sk-container-id-2 div.sk-serial::before {content: \"\";position: absolute;border-left: 1px solid gray;box-sizing: border-box;top: 0;bottom: 0;left: 50%;z-index: 0;}#sk-container-id-2 div.sk-serial {display: flex;flex-direction: column;align-items: center;background-color: white;padding-right: 0.2em;padding-left: 0.2em;position: relative;}#sk-container-id-2 div.sk-item {position: relative;z-index: 1;}#sk-container-id-2 div.sk-parallel {display: flex;align-items: stretch;justify-content: center;background-color: white;position: relative;}#sk-container-id-2 div.sk-item::before, #sk-container-id-2 div.sk-parallel-item::before {content: \"\";position: absolute;border-left: 1px solid gray;box-sizing: border-box;top: 0;bottom: 0;left: 50%;z-index: -1;}#sk-container-id-2 div.sk-parallel-item {display: flex;flex-direction: column;z-index: 1;position: relative;background-color: white;}#sk-container-id-2 div.sk-parallel-item:first-child::after {align-self: flex-end;width: 50%;}#sk-container-id-2 div.sk-parallel-item:last-child::after {align-self: flex-start;width: 50%;}#sk-container-id-2 div.sk-parallel-item:only-child::after {width: 0;}#sk-container-id-2 div.sk-dashed-wrapped {border: 1px dashed gray;margin: 0 0.4em 0.5em 0.4em;box-sizing: border-box;padding-bottom: 0.4em;background-color: white;}#sk-container-id-2 div.sk-label label {font-family: monospace;font-weight: bold;display: inline-block;line-height: 1.2em;}#sk-container-id-2 div.sk-label-container {text-align: center;}#sk-container-id-2 div.sk-container {/* jupyter's `normalize.less` sets `[hidden] { display: none; }` but bootstrap.min.css set `[hidden] { display: none !important; }` so we also need the `!important` here to be able to override the default hidden behavior on the sphinx rendered scikit-learn.org. See: https://github.com/scikit-learn/scikit-learn/issues/21755 */display: inline-block !important;position: relative;}#sk-container-id-2 div.sk-text-repr-fallback {display: none;}</style><div id=\"sk-container-id-2\" class=\"sk-top-container\"><div class=\"sk-text-repr-fallback\"><pre>PCA(n_components=4)</pre><b>In a Jupyter environment, please rerun this cell to show the HTML representation or trust the notebook. <br />On GitHub, the HTML representation is unable to render, please try loading this page with nbviewer.org.</b></div><div class=\"sk-container\" hidden><div class=\"sk-item\"><div class=\"sk-estimator sk-toggleable\"><input class=\"sk-toggleable__control sk-hidden--visually\" id=\"sk-estimator-id-2\" type=\"checkbox\" checked><label for=\"sk-estimator-id-2\" class=\"sk-toggleable__label sk-toggleable__label-arrow\">PCA</label><div class=\"sk-toggleable__content\"><pre>PCA(n_components=4)</pre></div></div></div></div></div>"
            ]
          },
          "metadata": {},
          "execution_count": 142
        }
      ]
    },
    {
      "cell_type": "code",
      "source": [
        "print(pca.explained_variance_ratio_)"
      ],
      "metadata": {
        "colab": {
          "base_uri": "https://localhost:8080/"
        },
        "id": "Z5G3SE_kCQn_",
        "outputId": "8f25e7fe-7c59-458b-bed5-fc06904a4a3c"
      },
      "execution_count": 143,
      "outputs": [
        {
          "output_type": "stream",
          "name": "stdout",
          "text": [
            "[0.42203246 0.38767624 0.11996401 0.02930496]\n"
          ]
        }
      ]
    },
    {
      "cell_type": "code",
      "source": [
        "print(pca.singular_values_)"
      ],
      "metadata": {
        "colab": {
          "base_uri": "https://localhost:8080/"
        },
        "id": "rJnc_apzCVoI",
        "outputId": "7c261fc1-8914-4c0a-b9e2-8293bed75c82"
      },
      "execution_count": 144,
      "outputs": [
        {
          "output_type": "stream",
          "name": "stdout",
          "text": [
            "[30.19782646 28.94258712 16.10008748  7.95743879]\n"
          ]
        }
      ]
    },
    {
      "cell_type": "markdown",
      "source": [
        "## Select Percentile"
      ],
      "metadata": {
        "id": "Uyd5GF-SAcBh"
      }
    },
    {
      "cell_type": "code",
      "source": [
        "from sklearn.feature_selection import SelectPercentile, chi2\n",
        "X_new = SelectPercentile(chi2, percentile=10).fit_transform(X[int_columns], y)"
      ],
      "metadata": {
        "id": "e7SGv8_cAv7d"
      },
      "execution_count": 145,
      "outputs": []
    },
    {
      "cell_type": "code",
      "source": [
        "X_new"
      ],
      "metadata": {
        "colab": {
          "base_uri": "https://localhost:8080/"
        },
        "id": "X7Sh87lNBYXS",
        "outputId": "78e299f8-2e4e-45fb-b60a-259eb2b67b7a"
      },
      "execution_count": 146,
      "outputs": [
        {
          "output_type": "execute_result",
          "data": {
            "text/plain": [
              "array([[3.33214539e-05, 9.82200103e-06, 7.42078678e-05],\n",
              "       [3.60043937e-05, 1.02876022e-05, 7.77015516e-05],\n",
              "       [3.21932618e-05, 9.34408076e-06, 7.06226167e-05],\n",
              "       ...,\n",
              "       [1.23034310e-03, 4.05427757e-04, 9.24347510e-04],\n",
              "       [7.95185970e-04, 3.26851691e-04, 7.37244400e-04],\n",
              "       [9.01732377e-04, 3.29414571e-04, 8.88846881e-04]])"
            ]
          },
          "metadata": {},
          "execution_count": 146
        }
      ]
    },
    {
      "cell_type": "markdown",
      "source": [
        "## Variance Threshold"
      ],
      "metadata": {
        "id": "MR_T4GA8Ahsa"
      }
    },
    {
      "cell_type": "code",
      "source": [
        "from sklearn.feature_selection import VarianceThreshold\n",
        "selector = VarianceThreshold()\n",
        "selector.fit_transform(X[int_columns])"
      ],
      "metadata": {
        "colab": {
          "base_uri": "https://localhost:8080/"
        },
        "id": "u307IrfsAqMI",
        "outputId": "72fe8b88-cee1-4287-a1e2-4c5144a7358e"
      },
      "execution_count": 147,
      "outputs": [
        {
          "output_type": "execute_result",
          "data": {
            "text/plain": [
              "array([[0.00000000e+00, 0.00000000e+00, 4.03079417e-07, ...,\n",
              "        3.63036196e-05, 6.42491184e-05, 7.47018203e-05],\n",
              "       [0.00000000e+00, 1.96078431e-02, 4.03079417e-07, ...,\n",
              "        3.78872227e-05, 6.72696030e-05, 7.82439559e-05],\n",
              "       [0.00000000e+00, 3.92156863e-02, 4.03079417e-07, ...,\n",
              "        3.46760435e-05, 6.11497421e-05, 7.12026833e-05],\n",
              "       ...,\n",
              "       [1.00000000e+00, 9.60784314e-01, 1.15458681e-04, ...,\n",
              "        1.02173432e-03, 1.40882034e-03, 9.70616528e-04],\n",
              "       [1.00000000e+00, 9.80392157e-01, 1.64319659e-04, ...,\n",
              "        9.09714205e-04, 9.18719476e-04, 7.44015743e-04],\n",
              "       [1.00000000e+00, 1.00000000e+00, 1.79318266e-04, ...,\n",
              "        8.30126484e-04, 1.10259181e-03, 8.76104142e-04]])"
            ]
          },
          "metadata": {},
          "execution_count": 147
        }
      ]
    }
  ]
}